{
 "cells": [
  {
   "cell_type": "markdown",
   "metadata": {},
   "source": [
    "# Polars - A blazingly fast new Dataframe library"
   ]
  },
  {
   "cell_type": "markdown",
   "metadata": {},
   "source": [
    "![picture](./static/polars-header.jpeg)"
   ]
  },
  {
   "cell_type": "markdown",
   "metadata": {},
   "source": [
    "In this article we going to take a closer look at [Polars](https://github.com/ritchie46/polars). Polars is a new Dataframe library implemented in Rust with convenient Python bindings. The [benchmark of H2Oai](https://h2oai.github.io/db-benchmark/) shows that it is one of the fastest Dataframe library of the moment. From the Polars book: '_The goal of Polars is being a fast DataFrame library that utilizes the available cores on your machine. Its ideal use case is data too big for pandas and too small for spark. Similar to spark Polars consists of a query planner that may (and probably does) optimize your query in order to do less work or reduce memory usage._'. \n",
    "\n",
    "Polars offers both a eager and a lazy API. The lazy API is said to be 'somewhat similar to spark'. The lazy API allows the user to optimise the query before it is ran. Promising 'blazingly' fast performance.\n",
    "\n",
    "In this article, we will do a first introduction in Python and work with some of the available functionalities of this new dataframe package to get an idea that it has to offer. In the first part of the article we will use the eager API from Polars and at the end we will use the lazy API to check the syntax and see the differences.\n",
    "\n",
    "To explore the functionalities of Polars we are going to use the [Wine Review dataset](https://www.kaggle.com/zynicide/wine-reviews/) with 150k wine reviews with variety, location, winery, price, and descriptions.\n",
    "\n",
    "You can download the dataset that we will use [on Kaggle](https://www.kaggle.com/zynicide/wine-reviews/?select=winemag-data_first150k.csv).\n",
    "\n",
    "It is also possible to run the cells in this article by yourself and play around with the code along the way. You can find this article in a Jupyter notebook format on my [Github page](https://github.com/r-brink/polars-tutorial/blob/master/polars-tutorial.ipynb)"
   ]
  },
  {
   "cell_type": "markdown",
   "metadata": {},
   "source": [
    "## Installing Polars"
   ]
  },
  {
   "cell_type": "markdown",
   "metadata": {},
   "source": [
    "We can easily install Polars via Pypi with the following command \n",
    "\n",
    "`pip install polars==0.7.0`\n",
    "\n",
    "In this article, we will specifically use the 0.7.0 release of Polars, because it is the latest more stable version. It is still in an early stage of development, so a lot may change till the first truly stable version; 1.0.\n",
    "\n",
    "*Note: as a best practice, don't forget to create and activate your virtual environment before installing Polars*"
   ]
  },
  {
   "cell_type": "markdown",
   "metadata": {},
   "source": [
    "## Import relevant packages"
   ]
  },
  {
   "cell_type": "markdown",
   "metadata": {},
   "source": [
    "To work with Polars and start analysing the Wine Review dataset we are going to import two packages: Polars and Matplotlib."
   ]
  },
  {
   "cell_type": "code",
   "execution_count": 1,
   "metadata": {},
   "outputs": [
    {
     "name": "stderr",
     "output_type": "stream",
     "text": [
      "Fontconfig warning: ignoring UTF-8: not a valid region tag\n"
     ]
    }
   ],
   "source": [
    "import polars as pl\n",
    "import matplotlib.pyplot as plt\n",
    "%matplotlib inline"
   ]
  },
  {
   "cell_type": "markdown",
   "metadata": {},
   "source": [
    "Polars already offers many functionalities that we are already familiar if you have worked with Pandas before. We can find an overview, including examples (for most), in the [reference guide](https://ritchie46.github.io/polars/python/polars/index.html). \n",
    "\n",
    "Let's start with loading the dataset and start with our analyses."
   ]
  },
  {
   "cell_type": "code",
   "execution_count": 9,
   "metadata": {},
   "outputs": [
    {
     "name": "stdout",
     "output_type": "stream",
     "text": [
      "<class 'polars.internals.dataframe.frame.DataFrame'>\n"
     ]
    }
   ],
   "source": [
    "data = pl.read_csv('winemag-data_first150k.csv')\n",
    "print(type(data))"
   ]
  },
  {
   "cell_type": "markdown",
   "metadata": {},
   "source": [
    "Now that the data is read into the dataframe. Let's have a closer look at the dataframe."
   ]
  },
  {
   "cell_type": "markdown",
   "metadata": {},
   "source": [
    "## Starting with the eager API"
   ]
  },
  {
   "cell_type": "markdown",
   "metadata": {},
   "source": [
    "### Dataset inspection"
   ]
  },
  {
   "cell_type": "code",
   "execution_count": 10,
   "metadata": {},
   "outputs": [
    {
     "data": {
      "text/plain": [
       "(150930, 11)"
      ]
     },
     "execution_count": 10,
     "metadata": {},
     "output_type": "execute_result"
    }
   ],
   "source": [
    "data.shape"
   ]
  },
  {
   "cell_type": "code",
   "execution_count": 11,
   "metadata": {},
   "outputs": [
    {
     "data": {
      "text/plain": [
       "['',\n",
       " 'country',\n",
       " 'description',\n",
       " 'designation',\n",
       " 'points',\n",
       " 'price',\n",
       " 'province',\n",
       " 'region_1',\n",
       " 'region_2',\n",
       " 'variety',\n",
       " 'winery']"
      ]
     },
     "execution_count": 11,
     "metadata": {},
     "output_type": "execute_result"
    }
   ],
   "source": [
    "data.columns"
   ]
  },
  {
   "cell_type": "code",
   "execution_count": 12,
   "metadata": {},
   "outputs": [
    {
     "data": {
      "text/plain": [
       "[polars.datatypes.Int64,\n",
       " polars.datatypes.Utf8,\n",
       " polars.datatypes.Utf8,\n",
       " polars.datatypes.Utf8,\n",
       " polars.datatypes.Int64,\n",
       " polars.datatypes.Float64,\n",
       " polars.datatypes.Utf8,\n",
       " polars.datatypes.Utf8,\n",
       " polars.datatypes.Utf8,\n",
       " polars.datatypes.Utf8,\n",
       " polars.datatypes.Utf8]"
      ]
     },
     "execution_count": 12,
     "metadata": {},
     "output_type": "execute_result"
    }
   ],
   "source": [
    "data.dtypes"
   ]
  },
  {
   "cell_type": "markdown",
   "metadata": {},
   "source": [
    "Below we use sample() to get random rows from the dataset to get a feeling of the data that is available. Polars also offers common functions like `head` and `tail` "
   ]
  },
  {
   "cell_type": "code",
   "execution_count": 13,
   "metadata": {},
   "outputs": [
    {
     "name": "stdout",
     "output_type": "stream",
     "text": [
      "shape: (5, 11)\n",
      "┌────────┬─────────┬───────────┬───────────┬─────┬────────────┬────────────┬───────────┬───────────┐\n",
      "│        ┆ country ┆ descripti ┆ designati ┆ ... ┆ region_1   ┆ region_2   ┆ variety   ┆ winery    │\n",
      "│ ---    ┆ ---     ┆ on        ┆ on        ┆     ┆ ---        ┆ ---        ┆ ---       ┆ ---       │\n",
      "│ i64    ┆ str     ┆ ---       ┆ ---       ┆     ┆ str        ┆ str        ┆ str       ┆ str       │\n",
      "│        ┆         ┆ str       ┆ str       ┆     ┆            ┆            ┆           ┆           │\n",
      "╞════════╪═════════╪═══════════╪═══════════╪═════╪════════════╪════════════╪═══════════╪═══════════╡\n",
      "│ 108226 ┆ Austria ┆ Smooth    ┆ Umriss    ┆ ... ┆ null       ┆ null       ┆ Blaufränk ┆ Feiler-Ar │\n",
      "│        ┆         ┆ wine,     ┆           ┆     ┆            ┆            ┆ isch      ┆ tinger    │\n",
      "│        ┆         ┆ with      ┆           ┆     ┆            ┆            ┆           ┆           │\n",
      "│        ┆         ┆ softened  ┆           ┆     ┆            ┆            ┆           ┆           │\n",
      "│        ┆         ┆ fruit...  ┆           ┆     ┆            ┆            ┆           ┆           │\n",
      "├╌╌╌╌╌╌╌╌┼╌╌╌╌╌╌╌╌╌┼╌╌╌╌╌╌╌╌╌╌╌┼╌╌╌╌╌╌╌╌╌╌╌┼╌╌╌╌╌┼╌╌╌╌╌╌╌╌╌╌╌╌┼╌╌╌╌╌╌╌╌╌╌╌╌┼╌╌╌╌╌╌╌╌╌╌╌┼╌╌╌╌╌╌╌╌╌╌╌┤\n",
      "│ 30588  ┆ Chile   ┆ Aromas of ┆ Reserva   ┆ ... ┆ null       ┆ null       ┆ Sauvignon ┆ Chilcas   │\n",
      "│        ┆         ┆ bell      ┆           ┆     ┆            ┆            ┆ Blanc     ┆           │\n",
      "│        ┆         ┆ pepper    ┆           ┆     ┆            ┆            ┆           ┆           │\n",
      "│        ┆         ┆ and       ┆           ┆     ┆            ┆            ┆           ┆           │\n",
      "│        ┆         ┆ jalape... ┆           ┆     ┆            ┆            ┆           ┆           │\n",
      "├╌╌╌╌╌╌╌╌┼╌╌╌╌╌╌╌╌╌┼╌╌╌╌╌╌╌╌╌╌╌┼╌╌╌╌╌╌╌╌╌╌╌┼╌╌╌╌╌┼╌╌╌╌╌╌╌╌╌╌╌╌┼╌╌╌╌╌╌╌╌╌╌╌╌┼╌╌╌╌╌╌╌╌╌╌╌┼╌╌╌╌╌╌╌╌╌╌╌┤\n",
      "│ 48093  ┆ Israel  ┆ An attrac ┆ Kosher    ┆ ... ┆ null       ┆ null       ┆ Viognier  ┆ Galil     │\n",
      "│        ┆         ┆ tive nose ┆           ┆     ┆            ┆            ┆           ┆ Mountain  │\n",
      "│        ┆         ┆ of fresh  ┆           ┆     ┆            ┆            ┆           ┆           │\n",
      "│        ┆         ┆ apri...   ┆           ┆     ┆            ┆            ┆           ┆           │\n",
      "├╌╌╌╌╌╌╌╌┼╌╌╌╌╌╌╌╌╌┼╌╌╌╌╌╌╌╌╌╌╌┼╌╌╌╌╌╌╌╌╌╌╌┼╌╌╌╌╌┼╌╌╌╌╌╌╌╌╌╌╌╌┼╌╌╌╌╌╌╌╌╌╌╌╌┼╌╌╌╌╌╌╌╌╌╌╌┼╌╌╌╌╌╌╌╌╌╌╌┤\n",
      "│ 147682 ┆ Italy   ┆ A less    ┆ Marca Oro ┆ ... ┆ Prosecco   ┆ null       ┆ Prosecco  ┆ Valdo     │\n",
      "│        ┆         ┆ intense   ┆           ┆     ┆ di Valdobb ┆            ┆           ┆           │\n",
      "│        ┆         ┆ extra dry ┆           ┆     ┆ iadene     ┆            ┆           ┆           │\n",
      "│        ┆         ┆ Prosecc.. ┆           ┆     ┆            ┆            ┆           ┆           │\n",
      "│        ┆         ┆ .         ┆           ┆     ┆            ┆            ┆           ┆           │\n",
      "├╌╌╌╌╌╌╌╌┼╌╌╌╌╌╌╌╌╌┼╌╌╌╌╌╌╌╌╌╌╌┼╌╌╌╌╌╌╌╌╌╌╌┼╌╌╌╌╌┼╌╌╌╌╌╌╌╌╌╌╌╌┼╌╌╌╌╌╌╌╌╌╌╌╌┼╌╌╌╌╌╌╌╌╌╌╌┼╌╌╌╌╌╌╌╌╌╌╌┤\n",
      "│ 85122  ┆ US      ┆ Sweet and ┆ Winemaker ┆ ... ┆ Napa Count ┆ North      ┆ Cabernet  ┆ Ghost     │\n",
      "│        ┆         ┆ jammy in  ┆ 's Blend  ┆     ┆ y-Sonoma   ┆ Coast      ┆ Sauvignon ┆ Pines     │\n",
      "│        ┆         ┆ extracted ┆           ┆     ┆ County-Lak ┆            ┆           ┆           │\n",
      "│        ┆         ┆ bla...    ┆           ┆     ┆ e C...     ┆            ┆           ┆           │\n",
      "└────────┴─────────┴───────────┴───────────┴─────┴────────────┴────────────┴───────────┴───────────┘\n"
     ]
    }
   ],
   "source": [
    "print(data.sample(n=5))"
   ]
  },
  {
   "cell_type": "code",
   "execution_count": 14,
   "metadata": {},
   "outputs": [
    {
     "data": {
      "text/html": [
       "<div>\n",
       "<style scoped>\n",
       "    .dataframe tbody tr th:only-of-type {\n",
       "        vertical-align: middle;\n",
       "    }\n",
       "\n",
       "    .dataframe tbody tr th {\n",
       "        vertical-align: top;\n",
       "    }\n",
       "\n",
       "    .dataframe thead th {\n",
       "        text-align: right;\n",
       "    }\n",
       "\n",
       "    .dataframe td {\n",
       "        white-space: pre;\n",
       "    }\n",
       "\n",
       "    .dataframe td {\n",
       "        padding-top: 0;\n",
       "    }\n",
       "\n",
       "    .dataframe td {\n",
       "        padding-bottom: 0;\n",
       "    }\n",
       "\n",
       "    .dataframe td {\n",
       "        line-height: 95%;\n",
       "    }\n",
       "</style>\n",
       "<table border=\"1\" class=\"dataframe\" >\n",
       "<small>shape: (5, 11)</small>\n",
       "<thead>\n",
       "<tr>\n",
       "<th>\n",
       "\n",
       "</th>\n",
       "<th>\n",
       "country\n",
       "</th>\n",
       "<th>\n",
       "description\n",
       "</th>\n",
       "<th>\n",
       "designation\n",
       "</th>\n",
       "<th>\n",
       "points\n",
       "</th>\n",
       "<th>\n",
       "price\n",
       "</th>\n",
       "<th>\n",
       "province\n",
       "</th>\n",
       "<th>\n",
       "region_1\n",
       "</th>\n",
       "<th>\n",
       "region_2\n",
       "</th>\n",
       "<th>\n",
       "variety\n",
       "</th>\n",
       "<th>\n",
       "winery\n",
       "</th>\n",
       "</tr>\n",
       "<tr>\n",
       "<td>\n",
       "i64\n",
       "</td>\n",
       "<td>\n",
       "str\n",
       "</td>\n",
       "<td>\n",
       "str\n",
       "</td>\n",
       "<td>\n",
       "str\n",
       "</td>\n",
       "<td>\n",
       "i64\n",
       "</td>\n",
       "<td>\n",
       "f64\n",
       "</td>\n",
       "<td>\n",
       "str\n",
       "</td>\n",
       "<td>\n",
       "str\n",
       "</td>\n",
       "<td>\n",
       "str\n",
       "</td>\n",
       "<td>\n",
       "str\n",
       "</td>\n",
       "<td>\n",
       "str\n",
       "</td>\n",
       "</tr>\n",
       "</thead>\n",
       "<tbody>\n",
       "<tr>\n",
       "<td>\n",
       "0\n",
       "</td>\n",
       "<td>\n",
       "&quot;US&quot;\n",
       "</td>\n",
       "<td>\n",
       "&quot;This tremendou...\n",
       "</td>\n",
       "<td>\n",
       "&quot;Martha&#x27;s Viney...\n",
       "</td>\n",
       "<td>\n",
       "96\n",
       "</td>\n",
       "<td>\n",
       "235.0\n",
       "</td>\n",
       "<td>\n",
       "&quot;California&quot;\n",
       "</td>\n",
       "<td>\n",
       "&quot;Napa Valley&quot;\n",
       "</td>\n",
       "<td>\n",
       "&quot;Napa&quot;\n",
       "</td>\n",
       "<td>\n",
       "&quot;Cabernet Sauvi...\n",
       "</td>\n",
       "<td>\n",
       "&quot;Heitz&quot;\n",
       "</td>\n",
       "</tr>\n",
       "<tr>\n",
       "<td>\n",
       "1\n",
       "</td>\n",
       "<td>\n",
       "&quot;Spain&quot;\n",
       "</td>\n",
       "<td>\n",
       "&quot;Ripe aromas of...\n",
       "</td>\n",
       "<td>\n",
       "&quot;Carodorum Sele...\n",
       "</td>\n",
       "<td>\n",
       "96\n",
       "</td>\n",
       "<td>\n",
       "110.0\n",
       "</td>\n",
       "<td>\n",
       "&quot;Northern Spain...\n",
       "</td>\n",
       "<td>\n",
       "&quot;Toro&quot;\n",
       "</td>\n",
       "<td>\n",
       "null\n",
       "</td>\n",
       "<td>\n",
       "&quot;Tinta de Toro&quot;\n",
       "</td>\n",
       "<td>\n",
       "&quot;Bodega Carmen ...\n",
       "</td>\n",
       "</tr>\n",
       "<tr>\n",
       "<td>\n",
       "2\n",
       "</td>\n",
       "<td>\n",
       "&quot;US&quot;\n",
       "</td>\n",
       "<td>\n",
       "&quot;Mac Watson hon...\n",
       "</td>\n",
       "<td>\n",
       "&quot;Special Select...\n",
       "</td>\n",
       "<td>\n",
       "96\n",
       "</td>\n",
       "<td>\n",
       "90.0\n",
       "</td>\n",
       "<td>\n",
       "&quot;California&quot;\n",
       "</td>\n",
       "<td>\n",
       "&quot;Knights Valley...\n",
       "</td>\n",
       "<td>\n",
       "&quot;Sonoma&quot;\n",
       "</td>\n",
       "<td>\n",
       "&quot;Sauvignon Blan...\n",
       "</td>\n",
       "<td>\n",
       "&quot;Macauley&quot;\n",
       "</td>\n",
       "</tr>\n",
       "<tr>\n",
       "<td>\n",
       "3\n",
       "</td>\n",
       "<td>\n",
       "&quot;US&quot;\n",
       "</td>\n",
       "<td>\n",
       "&quot;This spent 20 ...\n",
       "</td>\n",
       "<td>\n",
       "&quot;Reserve&quot;\n",
       "</td>\n",
       "<td>\n",
       "96\n",
       "</td>\n",
       "<td>\n",
       "65.0\n",
       "</td>\n",
       "<td>\n",
       "&quot;Oregon&quot;\n",
       "</td>\n",
       "<td>\n",
       "&quot;Willamette Val...\n",
       "</td>\n",
       "<td>\n",
       "&quot;Willamette Val...\n",
       "</td>\n",
       "<td>\n",
       "&quot;Pinot Noir&quot;\n",
       "</td>\n",
       "<td>\n",
       "&quot;Ponzi&quot;\n",
       "</td>\n",
       "</tr>\n",
       "<tr>\n",
       "<td>\n",
       "4\n",
       "</td>\n",
       "<td>\n",
       "&quot;France&quot;\n",
       "</td>\n",
       "<td>\n",
       "&quot;This is the to...\n",
       "</td>\n",
       "<td>\n",
       "&quot;La Brûlade&quot;\n",
       "</td>\n",
       "<td>\n",
       "95\n",
       "</td>\n",
       "<td>\n",
       "66.0\n",
       "</td>\n",
       "<td>\n",
       "&quot;Provence&quot;\n",
       "</td>\n",
       "<td>\n",
       "&quot;Bandol&quot;\n",
       "</td>\n",
       "<td>\n",
       "null\n",
       "</td>\n",
       "<td>\n",
       "&quot;Provence red b...\n",
       "</td>\n",
       "<td>\n",
       "&quot;Domaine de la ...\n",
       "</td>\n",
       "</tr>\n",
       "</tbody>\n",
       "</table>\n",
       "</div>"
      ],
      "text/plain": [
       "shape: (5, 11)\n",
       "┌─────┬─────────┬───────────┬───────────┬─────┬─────────────┬────────────┬────────────┬────────────┐\n",
       "│     ┆ country ┆ descripti ┆ designati ┆ ... ┆ region_1    ┆ region_2   ┆ variety    ┆ winery     │\n",
       "│ --- ┆ ---     ┆ on        ┆ on        ┆     ┆ ---         ┆ ---        ┆ ---        ┆ ---        │\n",
       "│ i64 ┆ str     ┆ ---       ┆ ---       ┆     ┆ str         ┆ str        ┆ str        ┆ str        │\n",
       "│     ┆         ┆ str       ┆ str       ┆     ┆             ┆            ┆            ┆            │\n",
       "╞═════╪═════════╪═══════════╪═══════════╪═════╪═════════════╪════════════╪════════════╪════════════╡\n",
       "│ 0   ┆ US      ┆ This trem ┆ Martha's  ┆ ... ┆ Napa Valley ┆ Napa       ┆ Cabernet   ┆ Heitz      │\n",
       "│     ┆         ┆ endous    ┆ Vineyard  ┆     ┆             ┆            ┆ Sauvignon  ┆            │\n",
       "│     ┆         ┆ 100%      ┆           ┆     ┆             ┆            ┆            ┆            │\n",
       "│     ┆         ┆ varietal  ┆           ┆     ┆             ┆            ┆            ┆            │\n",
       "│     ┆         ┆ wi...     ┆           ┆     ┆             ┆            ┆            ┆            │\n",
       "├╌╌╌╌╌┼╌╌╌╌╌╌╌╌╌┼╌╌╌╌╌╌╌╌╌╌╌┼╌╌╌╌╌╌╌╌╌╌╌┼╌╌╌╌╌┼╌╌╌╌╌╌╌╌╌╌╌╌╌┼╌╌╌╌╌╌╌╌╌╌╌╌┼╌╌╌╌╌╌╌╌╌╌╌╌┼╌╌╌╌╌╌╌╌╌╌╌╌┤\n",
       "│ 1   ┆ Spain   ┆ Ripe      ┆ Carodorum ┆ ... ┆ Toro        ┆ null       ┆ Tinta de   ┆ Bodega     │\n",
       "│     ┆         ┆ aromas of ┆ Selección ┆     ┆             ┆            ┆ Toro       ┆ Carmen     │\n",
       "│     ┆         ┆ fig, blac ┆ Especial  ┆     ┆             ┆            ┆            ┆ Rodríguez  │\n",
       "│     ┆         ┆ kberry    ┆ Res...    ┆     ┆             ┆            ┆            ┆            │\n",
       "│     ┆         ┆ a...      ┆           ┆     ┆             ┆            ┆            ┆            │\n",
       "├╌╌╌╌╌┼╌╌╌╌╌╌╌╌╌┼╌╌╌╌╌╌╌╌╌╌╌┼╌╌╌╌╌╌╌╌╌╌╌┼╌╌╌╌╌┼╌╌╌╌╌╌╌╌╌╌╌╌╌┼╌╌╌╌╌╌╌╌╌╌╌╌┼╌╌╌╌╌╌╌╌╌╌╌╌┼╌╌╌╌╌╌╌╌╌╌╌╌┤\n",
       "│ 2   ┆ US      ┆ Mac       ┆ Special   ┆ ... ┆ Knights     ┆ Sonoma     ┆ Sauvignon  ┆ Macauley   │\n",
       "│     ┆         ┆ Watson    ┆ Selected  ┆     ┆ Valley      ┆            ┆ Blanc      ┆            │\n",
       "│     ┆         ┆ honors    ┆ Late      ┆     ┆             ┆            ┆            ┆            │\n",
       "│     ┆         ┆ the       ┆ Harvest   ┆     ┆             ┆            ┆            ┆            │\n",
       "│     ┆         ┆ memory of ┆           ┆     ┆             ┆            ┆            ┆            │\n",
       "│     ┆         ┆ ...       ┆           ┆     ┆             ┆            ┆            ┆            │\n",
       "├╌╌╌╌╌┼╌╌╌╌╌╌╌╌╌┼╌╌╌╌╌╌╌╌╌╌╌┼╌╌╌╌╌╌╌╌╌╌╌┼╌╌╌╌╌┼╌╌╌╌╌╌╌╌╌╌╌╌╌┼╌╌╌╌╌╌╌╌╌╌╌╌┼╌╌╌╌╌╌╌╌╌╌╌╌┼╌╌╌╌╌╌╌╌╌╌╌╌┤\n",
       "│ 3   ┆ US      ┆ This      ┆ Reserve   ┆ ... ┆ Willamette  ┆ Willamette ┆ Pinot Noir ┆ Ponzi      │\n",
       "│     ┆         ┆ spent 20  ┆           ┆     ┆ Valley      ┆ Valley     ┆            ┆            │\n",
       "│     ┆         ┆ months in ┆           ┆     ┆             ┆            ┆            ┆            │\n",
       "│     ┆         ┆ 30% new   ┆           ┆     ┆             ┆            ┆            ┆            │\n",
       "│     ┆         ┆ ...       ┆           ┆     ┆             ┆            ┆            ┆            │\n",
       "├╌╌╌╌╌┼╌╌╌╌╌╌╌╌╌┼╌╌╌╌╌╌╌╌╌╌╌┼╌╌╌╌╌╌╌╌╌╌╌┼╌╌╌╌╌┼╌╌╌╌╌╌╌╌╌╌╌╌╌┼╌╌╌╌╌╌╌╌╌╌╌╌┼╌╌╌╌╌╌╌╌╌╌╌╌┼╌╌╌╌╌╌╌╌╌╌╌╌┤\n",
       "│ 4   ┆ France  ┆ This is   ┆ La        ┆ ... ┆ Bandol      ┆ null       ┆ Provence   ┆ Domaine de │\n",
       "│     ┆         ┆ the top   ┆ Brûlade   ┆     ┆             ┆            ┆ red blend  ┆ la Bégude  │\n",
       "│     ┆         ┆ wine from ┆           ┆     ┆             ┆            ┆            ┆            │\n",
       "│     ┆         ┆ La Bég... ┆           ┆     ┆             ┆            ┆            ┆            │\n",
       "└─────┴─────────┴───────────┴───────────┴─────┴─────────────┴────────────┴────────────┴────────────┘"
      ]
     },
     "execution_count": 14,
     "metadata": {},
     "output_type": "execute_result"
    }
   ],
   "source": [
    "data.head()"
   ]
  },
  {
   "cell_type": "markdown",
   "metadata": {},
   "source": [
    "The dataset has a lot to offer. With 11 variables and over 150k rows there is a lot of data to analyse. We see a couple of variables that are interesting to look into, like `price`, `country`, `points`."
   ]
  },
  {
   "cell_type": "markdown",
   "metadata": {},
   "source": [
    "Before we continue we want to have a closer look if there are any `Nulls` in the dataset."
   ]
  },
  {
   "cell_type": "code",
   "execution_count": 15,
   "metadata": {},
   "outputs": [
    {
     "data": {
      "text/html": [
       "<div>\n",
       "<style scoped>\n",
       "    .dataframe tbody tr th:only-of-type {\n",
       "        vertical-align: middle;\n",
       "    }\n",
       "\n",
       "    .dataframe tbody tr th {\n",
       "        vertical-align: top;\n",
       "    }\n",
       "\n",
       "    .dataframe thead th {\n",
       "        text-align: right;\n",
       "    }\n",
       "\n",
       "    .dataframe td {\n",
       "        white-space: pre;\n",
       "    }\n",
       "\n",
       "    .dataframe td {\n",
       "        padding-top: 0;\n",
       "    }\n",
       "\n",
       "    .dataframe td {\n",
       "        padding-bottom: 0;\n",
       "    }\n",
       "\n",
       "    .dataframe td {\n",
       "        line-height: 95%;\n",
       "    }\n",
       "</style>\n",
       "<table border=\"1\" class=\"dataframe\" >\n",
       "<small>shape: (1, 11)</small>\n",
       "<thead>\n",
       "<tr>\n",
       "<th>\n",
       "\n",
       "</th>\n",
       "<th>\n",
       "country\n",
       "</th>\n",
       "<th>\n",
       "description\n",
       "</th>\n",
       "<th>\n",
       "designation\n",
       "</th>\n",
       "<th>\n",
       "points\n",
       "</th>\n",
       "<th>\n",
       "price\n",
       "</th>\n",
       "<th>\n",
       "province\n",
       "</th>\n",
       "<th>\n",
       "region_1\n",
       "</th>\n",
       "<th>\n",
       "region_2\n",
       "</th>\n",
       "<th>\n",
       "variety\n",
       "</th>\n",
       "<th>\n",
       "winery\n",
       "</th>\n",
       "</tr>\n",
       "<tr>\n",
       "<td>\n",
       "u32\n",
       "</td>\n",
       "<td>\n",
       "u32\n",
       "</td>\n",
       "<td>\n",
       "u32\n",
       "</td>\n",
       "<td>\n",
       "u32\n",
       "</td>\n",
       "<td>\n",
       "u32\n",
       "</td>\n",
       "<td>\n",
       "u32\n",
       "</td>\n",
       "<td>\n",
       "u32\n",
       "</td>\n",
       "<td>\n",
       "u32\n",
       "</td>\n",
       "<td>\n",
       "u32\n",
       "</td>\n",
       "<td>\n",
       "u32\n",
       "</td>\n",
       "<td>\n",
       "u32\n",
       "</td>\n",
       "</tr>\n",
       "</thead>\n",
       "<tbody>\n",
       "<tr>\n",
       "<td>\n",
       "0\n",
       "</td>\n",
       "<td>\n",
       "5\n",
       "</td>\n",
       "<td>\n",
       "0\n",
       "</td>\n",
       "<td>\n",
       "45735\n",
       "</td>\n",
       "<td>\n",
       "0\n",
       "</td>\n",
       "<td>\n",
       "13695\n",
       "</td>\n",
       "<td>\n",
       "5\n",
       "</td>\n",
       "<td>\n",
       "25060\n",
       "</td>\n",
       "<td>\n",
       "89977\n",
       "</td>\n",
       "<td>\n",
       "0\n",
       "</td>\n",
       "<td>\n",
       "0\n",
       "</td>\n",
       "</tr>\n",
       "</tbody>\n",
       "</table>\n",
       "</div>"
      ],
      "text/plain": [
       "shape: (1, 11)\n",
       "┌─────┬─────────┬─────────────┬─────────────┬─────┬──────────┬──────────┬─────────┬────────┐\n",
       "│     ┆ country ┆ description ┆ designation ┆ ... ┆ region_1 ┆ region_2 ┆ variety ┆ winery │\n",
       "│ --- ┆ ---     ┆ ---         ┆ ---         ┆     ┆ ---      ┆ ---      ┆ ---     ┆ ---    │\n",
       "│ u32 ┆ u32     ┆ u32         ┆ u32         ┆     ┆ u32      ┆ u32      ┆ u32     ┆ u32    │\n",
       "╞═════╪═════════╪═════════════╪═════════════╪═════╪══════════╪══════════╪═════════╪════════╡\n",
       "│ 0   ┆ 5       ┆ 0           ┆ 45735       ┆ ... ┆ 25060    ┆ 89977    ┆ 0       ┆ 0      │\n",
       "└─────┴─────────┴─────────────┴─────────────┴─────┴──────────┴──────────┴─────────┴────────┘"
      ]
     },
     "execution_count": 15,
     "metadata": {},
     "output_type": "execute_result"
    }
   ],
   "source": [
    "data.null_count()"
   ]
  },
  {
   "cell_type": "markdown",
   "metadata": {},
   "source": [
    "It seems that around a little less than 10% of the `price` variable has no value. We can either drop the rows with missing values or fill them. In this article, we will choose to use the mean as filling strategy."
   ]
  },
  {
   "cell_type": "code",
   "execution_count": 9,
   "metadata": {},
   "outputs": [],
   "source": [
    "data['price'] = data['price'].fill_none('mean')"
   ]
  },
  {
   "cell_type": "markdown",
   "metadata": {},
   "source": [
    "### Some analyses"
   ]
  },
  {
   "cell_type": "markdown",
   "metadata": {},
   "source": [
    "The next step is to dive in a little deeper and have a closer look at the dataset with some more complex functions.\n",
    "\n",
    "The goal that we want to achieve in the following part is to have a closer look at the countries and how they compare in terms of price and points."
   ]
  },
  {
   "cell_type": "code",
   "execution_count": 10,
   "metadata": {},
   "outputs": [
    {
     "name": "stdout",
     "output_type": "stream",
     "text": [
      "Median price: 26.0\n",
      "Average price: 33.131482493532864\n",
      "Maximum price: 2300.0\n",
      "Minimum price: 4.0\n"
     ]
    }
   ],
   "source": [
    "# Analyses of wine prices\n",
    "print(f'Median price: {data[\"price\"].median()}')\n",
    "print(f'Average price: {data[\"price\"].mean()}')\n",
    "print(f'Maximum price: {data[\"price\"].max()}')\n",
    "print(f'Minimum price: {data[\"price\"].min()}')"
   ]
  },
  {
   "cell_type": "code",
   "execution_count": 11,
   "metadata": {},
   "outputs": [
    {
     "name": "stdout",
     "output_type": "stream",
     "text": [
      "Median points: 88\n",
      "Average points: 87.8884184721394\n",
      "Maximum points: 100\n",
      "Minimum points: 80\n"
     ]
    }
   ],
   "source": [
    "# Analyses of wine points\n",
    "print(f'Median points: {data[\"points\"].median()}')\n",
    "print(f'Average points: {data[\"points\"].mean()}')\n",
    "print(f'Maximum points: {data[\"points\"].max()}')\n",
    "print(f'Minimum points: {data[\"points\"].min()}')"
   ]
  },
  {
   "cell_type": "markdown",
   "metadata": {},
   "source": [
    "The minimum number of points shows that there is no such thing as bad wine."
   ]
  },
  {
   "cell_type": "code",
   "execution_count": 12,
   "metadata": {},
   "outputs": [
    {
     "data": {
      "text/plain": [
       "['Macedonia',\n",
       " 'Ukraine',\n",
       " 'Spain',\n",
       " 'Israel',\n",
       " 'Cyprus',\n",
       " 'Germany',\n",
       " 'China',\n",
       " 'India',\n",
       " 'South Korea',\n",
       " 'Bosnia and Herzegovina',\n",
       " 'Czech Republic',\n",
       " 'Albania',\n",
       " '',\n",
       " 'Moldova',\n",
       " 'France',\n",
       " 'Morocco',\n",
       " 'Argentina',\n",
       " 'Mexico',\n",
       " 'Turkey',\n",
       " 'Serbia',\n",
       " 'Portugal',\n",
       " 'Tunisia',\n",
       " 'South Africa',\n",
       " 'Lebanon',\n",
       " 'Brazil',\n",
       " 'Austria',\n",
       " 'Bulgaria',\n",
       " 'Croatia',\n",
       " 'Italy',\n",
       " 'Slovakia',\n",
       " 'Greece',\n",
       " 'Uruguay',\n",
       " 'Switzerland',\n",
       " 'US-France',\n",
       " 'Lithuania',\n",
       " 'Japan',\n",
       " 'Hungary',\n",
       " 'US',\n",
       " 'Georgia',\n",
       " 'Chile',\n",
       " 'Luxembourg',\n",
       " 'Australia',\n",
       " 'Montenegro',\n",
       " 'England',\n",
       " 'Slovenia',\n",
       " 'Romania',\n",
       " 'New Zealand',\n",
       " 'Egypt',\n",
       " 'Canada']"
      ]
     },
     "execution_count": 12,
     "metadata": {},
     "output_type": "execute_result"
    }
   ],
   "source": [
    "# Get a list of unique countries that are in the dataset\n",
    "data['country'].unique().to_list()"
   ]
  },
  {
   "cell_type": "code",
   "execution_count": 13,
   "metadata": {},
   "outputs": [
    {
     "name": "stdout",
     "output_type": "stream",
     "text": [
      "There are 49 countries in the list\n"
     ]
    }
   ],
   "source": [
    "print(f'There are {len(data[\"country\"].unique())} countries in the list')"
   ]
  },
  {
   "cell_type": "markdown",
   "metadata": {},
   "source": [
    "There are two strange values in our dataset: an undefined country (\"\") and a country called 'US-France'."
   ]
  },
  {
   "cell_type": "code",
   "execution_count": 14,
   "metadata": {},
   "outputs": [
    {
     "data": {
      "text/html": [
       "<div>\n",
       "<style scoped>\n",
       "    .dataframe tbody tr th:only-of-type {\n",
       "        vertical-align: middle;\n",
       "    }\n",
       "\n",
       "    .dataframe tbody tr th {\n",
       "        vertical-align: top;\n",
       "    }\n",
       "\n",
       "    .dataframe thead th {\n",
       "        text-align: right;\n",
       "    }\n",
       "</style>\n",
       "<table border=\"1 \"class=\"dataframe \">\n",
       "<thead>\n",
       "<tr>\n",
       "<th>\n",
       "\n",
       "</th>\n",
       "<th>\n",
       "country\n",
       "</th>\n",
       "<th>\n",
       "description\n",
       "</th>\n",
       "<th>\n",
       "designation\n",
       "</th>\n",
       "<th>\n",
       "points\n",
       "</th>\n",
       "<th>\n",
       "province\n",
       "</th>\n",
       "<th>\n",
       "region_1\n",
       "</th>\n",
       "<th>\n",
       "region_2\n",
       "</th>\n",
       "<th>\n",
       "variety\n",
       "</th>\n",
       "<th>\n",
       "winery\n",
       "</th>\n",
       "<th>\n",
       "price\n",
       "</th>\n",
       "</tr>\n",
       "<tr>\n",
       "<td>\n",
       "i64\n",
       "</td>\n",
       "<td>\n",
       "str\n",
       "</td>\n",
       "<td>\n",
       "str\n",
       "</td>\n",
       "<td>\n",
       "str\n",
       "</td>\n",
       "<td>\n",
       "i64\n",
       "</td>\n",
       "<td>\n",
       "str\n",
       "</td>\n",
       "<td>\n",
       "str\n",
       "</td>\n",
       "<td>\n",
       "str\n",
       "</td>\n",
       "<td>\n",
       "str\n",
       "</td>\n",
       "<td>\n",
       "str\n",
       "</td>\n",
       "<td>\n",
       "f64\n",
       "</td>\n",
       "</tr>\n",
       "</thead>\n",
       "<tbody>\n",
       "<tr>\n",
       "<td>\n",
       "1133\n",
       "</td>\n",
       "<td>\n",
       "\"\"\n",
       "</td>\n",
       "<td>\n",
       "\"Delicate white flowers and a spin of lemon peel on the nose start this refined white. The bright fruit on the palate is tropical and exotic, but the minerality gives it lift. Fuller-bodied but poised, the wine has aging potential and a food-friendly character.\"\n",
       "</td>\n",
       "<td>\n",
       "\"Askitikos\"\n",
       "</td>\n",
       "<td>\n",
       "90\n",
       "</td>\n",
       "<td>\n",
       "\"\"\n",
       "</td>\n",
       "<td>\n",
       "\"\"\n",
       "</td>\n",
       "<td>\n",
       "\"\"\n",
       "</td>\n",
       "<td>\n",
       "\"Assyrtiko\"\n",
       "</td>\n",
       "<td>\n",
       "\"Tsililis\"\n",
       "</td>\n",
       "<td>\n",
       "17\n",
       "</td>\n",
       "</tr>\n",
       "<tr>\n",
       "<td>\n",
       "1440\n",
       "</td>\n",
       "<td>\n",
       "\"\"\n",
       "</td>\n",
       "<td>\n",
       "\"A blend of 60% Syrah, 30% Cabernet Sauvignon and 10% Merlot, this inky garnet-colored wine offers aromas of cassis and elderberry. On the palate, there is a combination of cooked fruit and cool spice flavors yet there is no lack of accompanying acidity. Flavors of cassis, elderberry, anise, orange peel and vanilla are backed by silky tannins that stay smooth into the cooling finish.\"\n",
       "</td>\n",
       "<td>\n",
       "\"Shah\"\n",
       "</td>\n",
       "<td>\n",
       "90\n",
       "</td>\n",
       "<td>\n",
       "\"\"\n",
       "</td>\n",
       "<td>\n",
       "\"\"\n",
       "</td>\n",
       "<td>\n",
       "\"\"\n",
       "</td>\n",
       "<td>\n",
       "\"Red Blend\"\n",
       "</td>\n",
       "<td>\n",
       "\"Büyülübağ\"\n",
       "</td>\n",
       "<td>\n",
       "30\n",
       "</td>\n",
       "</tr>\n",
       "<tr>\n",
       "<td>\n",
       "68226\n",
       "</td>\n",
       "<td>\n",
       "\"\"\n",
       "</td>\n",
       "<td>\n",
       "\"From first sniff to last, the nose never makes much of an impression; the wine has funk and generic chemical aromas but also your basic red apple and char. Pretty big and aggressive in the mouth, with snaggy acids and rough tannins.\"\n",
       "</td>\n",
       "<td>\n",
       "\"Piedra Feliz\"\n",
       "</td>\n",
       "<td>\n",
       "81\n",
       "</td>\n",
       "<td>\n",
       "\"\"\n",
       "</td>\n",
       "<td>\n",
       "\"\"\n",
       "</td>\n",
       "<td>\n",
       "\"\"\n",
       "</td>\n",
       "<td>\n",
       "\"Pinot Noir\"\n",
       "</td>\n",
       "<td>\n",
       "\"Chilcas\"\n",
       "</td>\n",
       "<td>\n",
       "15\n",
       "</td>\n",
       "</tr>\n",
       "<tr>\n",
       "<td>\n",
       "113016\n",
       "</td>\n",
       "<td>\n",
       "\"\"\n",
       "</td>\n",
       "<td>\n",
       "\"From first sniff to last, the nose never makes much of an impression; the wine has funk and generic chemical aromas but also your basic red apple and char. Pretty big and aggressive in the mouth, with snaggy acids and rough tannins.\"\n",
       "</td>\n",
       "<td>\n",
       "\"Piedra Feliz\"\n",
       "</td>\n",
       "<td>\n",
       "81\n",
       "</td>\n",
       "<td>\n",
       "\"\"\n",
       "</td>\n",
       "<td>\n",
       "\"\"\n",
       "</td>\n",
       "<td>\n",
       "\"\"\n",
       "</td>\n",
       "<td>\n",
       "\"Pinot Noir\"\n",
       "</td>\n",
       "<td>\n",
       "\"Chilcas\"\n",
       "</td>\n",
       "<td>\n",
       "15\n",
       "</td>\n",
       "</tr>\n",
       "<tr>\n",
       "<td>\n",
       "135696\n",
       "</td>\n",
       "<td>\n",
       "\"\"\n",
       "</td>\n",
       "<td>\n",
       "\"From first sniff to last, the nose never makes much of an impression; the wine has funk and generic chemical aromas but also your basic red apple and char. Pretty big and aggressive in the mouth, with snaggy acids and rough tannins.\"\n",
       "</td>\n",
       "<td>\n",
       "\"Piedra Feliz\"\n",
       "</td>\n",
       "<td>\n",
       "81\n",
       "</td>\n",
       "<td>\n",
       "\"\"\n",
       "</td>\n",
       "<td>\n",
       "\"\"\n",
       "</td>\n",
       "<td>\n",
       "\"\"\n",
       "</td>\n",
       "<td>\n",
       "\"Pinot Noir\"\n",
       "</td>\n",
       "<td>\n",
       "\"Chilcas\"\n",
       "</td>\n",
       "<td>\n",
       "15\n",
       "</td>\n",
       "</tr>\n",
       "<tr>\n",
       "<td>\n",
       "144054\n",
       "</td>\n",
       "<td>\n",
       "\"US-France\"\n",
       "</td>\n",
       "<td>\n",
       "\"Defies categorization, in more ways than one. The wine is a joint venture between Cold Heaven's Morgan Clendenen and Condrieu winemaker Yves Cuilleron, and is a 50-50 blend of their wines. The wine has California's sunny flavors (sunflowers, hay, pretty yellow fruit), and a full, rich, viscous Condrieu texture.\"\n",
       "</td>\n",
       "<td>\n",
       "\"\"\n",
       "</td>\n",
       "<td>\n",
       "88\n",
       "</td>\n",
       "<td>\n",
       "\"Santa Barbara County-Condrieu\"\n",
       "</td>\n",
       "<td>\n",
       "\"\"\n",
       "</td>\n",
       "<td>\n",
       "\"\"\n",
       "</td>\n",
       "<td>\n",
       "\"Viognier\"\n",
       "</td>\n",
       "<td>\n",
       "\"Deux C\"\n",
       "</td>\n",
       "<td>\n",
       "50\n",
       "</td>\n",
       "</tr>\n",
       "</tbody>\n",
       "</table>\n",
       "</div>"
      ],
      "text/plain": [
       "shape: (6, 11)\n",
       "╭────────┬────────────┬────────────┬────────────┬─────┬──────────┬────────────┬────────────┬───────╮\n",
       "│        ┆ country    ┆ descriptio ┆ designatio ┆ ... ┆ region_2 ┆ variety    ┆ winery     ┆ price │\n",
       "│ ---    ┆ ---        ┆ n          ┆ n          ┆     ┆ ---      ┆ ---        ┆ ---        ┆ ---   │\n",
       "│ i64    ┆ str        ┆ ---        ┆ ---        ┆     ┆ str      ┆ str        ┆ str        ┆ f64   │\n",
       "│        ┆            ┆ str        ┆ str        ┆     ┆          ┆            ┆            ┆       │\n",
       "╞════════╪════════════╪════════════╪════════════╪═════╪══════════╪════════════╪════════════╪═══════╡\n",
       "│ 1133   ┆ \"\"         ┆ \"Delicate  ┆ \"Askitikos ┆ ... ┆ \"\"       ┆ \"Assyrtiko ┆ \"Tsililis\" ┆ 17    │\n",
       "│        ┆            ┆ white      ┆ \"          ┆     ┆          ┆ \"          ┆            ┆       │\n",
       "│        ┆            ┆ flowers    ┆            ┆     ┆          ┆            ┆            ┆       │\n",
       "│        ┆            ┆ and a      ┆            ┆     ┆          ┆            ┆            ┆       │\n",
       "│        ┆            ┆ spi...\"    ┆            ┆     ┆          ┆            ┆            ┆       │\n",
       "├╌╌╌╌╌╌╌╌┼╌╌╌╌╌╌╌╌╌╌╌╌┼╌╌╌╌╌╌╌╌╌╌╌╌┼╌╌╌╌╌╌╌╌╌╌╌╌┼╌╌╌╌╌┼╌╌╌╌╌╌╌╌╌╌┼╌╌╌╌╌╌╌╌╌╌╌╌┼╌╌╌╌╌╌╌╌╌╌╌╌┼╌╌╌╌╌╌╌┤\n",
       "│ 1440   ┆ \"\"         ┆ \"A blend   ┆ \"Shah\"     ┆ ... ┆ \"\"       ┆ \"Red       ┆ \"Büyülübağ ┆ 30    │\n",
       "│        ┆            ┆ of 60%     ┆            ┆     ┆          ┆ Blend\"     ┆ \"          ┆       │\n",
       "│        ┆            ┆ Syrah, 30% ┆            ┆     ┆          ┆            ┆            ┆       │\n",
       "│        ┆            ┆ Cabern...\" ┆            ┆     ┆          ┆            ┆            ┆       │\n",
       "├╌╌╌╌╌╌╌╌┼╌╌╌╌╌╌╌╌╌╌╌╌┼╌╌╌╌╌╌╌╌╌╌╌╌┼╌╌╌╌╌╌╌╌╌╌╌╌┼╌╌╌╌╌┼╌╌╌╌╌╌╌╌╌╌┼╌╌╌╌╌╌╌╌╌╌╌╌┼╌╌╌╌╌╌╌╌╌╌╌╌┼╌╌╌╌╌╌╌┤\n",
       "│ 68226  ┆ \"\"         ┆ \"From      ┆ \"Piedra    ┆ ... ┆ \"\"       ┆ \"Pinot     ┆ \"Chilcas\"  ┆ 15    │\n",
       "│        ┆            ┆ first      ┆ Feliz\"     ┆     ┆          ┆ Noir\"      ┆            ┆       │\n",
       "│        ┆            ┆ sniff to   ┆            ┆     ┆          ┆            ┆            ┆       │\n",
       "│        ┆            ┆ last, the  ┆            ┆     ┆          ┆            ┆            ┆       │\n",
       "│        ┆            ┆ no...\"     ┆            ┆     ┆          ┆            ┆            ┆       │\n",
       "├╌╌╌╌╌╌╌╌┼╌╌╌╌╌╌╌╌╌╌╌╌┼╌╌╌╌╌╌╌╌╌╌╌╌┼╌╌╌╌╌╌╌╌╌╌╌╌┼╌╌╌╌╌┼╌╌╌╌╌╌╌╌╌╌┼╌╌╌╌╌╌╌╌╌╌╌╌┼╌╌╌╌╌╌╌╌╌╌╌╌┼╌╌╌╌╌╌╌┤\n",
       "│ 113016 ┆ \"\"         ┆ \"From      ┆ \"Piedra    ┆ ... ┆ \"\"       ┆ \"Pinot     ┆ \"Chilcas\"  ┆ 15    │\n",
       "│        ┆            ┆ first      ┆ Feliz\"     ┆     ┆          ┆ Noir\"      ┆            ┆       │\n",
       "│        ┆            ┆ sniff to   ┆            ┆     ┆          ┆            ┆            ┆       │\n",
       "│        ┆            ┆ last, the  ┆            ┆     ┆          ┆            ┆            ┆       │\n",
       "│        ┆            ┆ no...\"     ┆            ┆     ┆          ┆            ┆            ┆       │\n",
       "├╌╌╌╌╌╌╌╌┼╌╌╌╌╌╌╌╌╌╌╌╌┼╌╌╌╌╌╌╌╌╌╌╌╌┼╌╌╌╌╌╌╌╌╌╌╌╌┼╌╌╌╌╌┼╌╌╌╌╌╌╌╌╌╌┼╌╌╌╌╌╌╌╌╌╌╌╌┼╌╌╌╌╌╌╌╌╌╌╌╌┼╌╌╌╌╌╌╌┤\n",
       "│ 135696 ┆ \"\"         ┆ \"From      ┆ \"Piedra    ┆ ... ┆ \"\"       ┆ \"Pinot     ┆ \"Chilcas\"  ┆ 15    │\n",
       "│        ┆            ┆ first      ┆ Feliz\"     ┆     ┆          ┆ Noir\"      ┆            ┆       │\n",
       "│        ┆            ┆ sniff to   ┆            ┆     ┆          ┆            ┆            ┆       │\n",
       "│        ┆            ┆ last, the  ┆            ┆     ┆          ┆            ┆            ┆       │\n",
       "│        ┆            ┆ no...\"     ┆            ┆     ┆          ┆            ┆            ┆       │\n",
       "├╌╌╌╌╌╌╌╌┼╌╌╌╌╌╌╌╌╌╌╌╌┼╌╌╌╌╌╌╌╌╌╌╌╌┼╌╌╌╌╌╌╌╌╌╌╌╌┼╌╌╌╌╌┼╌╌╌╌╌╌╌╌╌╌┼╌╌╌╌╌╌╌╌╌╌╌╌┼╌╌╌╌╌╌╌╌╌╌╌╌┼╌╌╌╌╌╌╌┤\n",
       "│ 144054 ┆ \"US-France ┆ \"Defies    ┆ \"\"         ┆ ... ┆ \"\"       ┆ \"Viognier\" ┆ \"Deux C\"   ┆ 50    │\n",
       "│        ┆ \"          ┆ categoriza ┆            ┆     ┆          ┆            ┆            ┆       │\n",
       "│        ┆            ┆ tion, in   ┆            ┆     ┆          ┆            ┆            ┆       │\n",
       "│        ┆            ┆ more w...\" ┆            ┆     ┆          ┆            ┆            ┆       │\n",
       "╰────────┴────────────┴────────────┴────────────┴─────┴──────────┴────────────┴────────────┴───────╯"
      ]
     },
     "execution_count": 14,
     "metadata": {},
     "output_type": "execute_result"
    }
   ],
   "source": [
    "data[(data['country'] == '') | (data['country'] == 'US-France')]"
   ]
  },
  {
   "cell_type": "markdown",
   "metadata": {},
   "source": [
    "There were only 6 of them, so it was safe to drop them."
   ]
  },
  {
   "cell_type": "code",
   "execution_count": 15,
   "metadata": {},
   "outputs": [],
   "source": [
    "data = data[(data['country'] != '') & (data['country'] != 'US-France')]"
   ]
  },
  {
   "cell_type": "markdown",
   "metadata": {},
   "source": [
    "Time to look into the countries that produces the best wine according to the points and has the hightest price for a bottle."
   ]
  },
  {
   "cell_type": "code",
   "execution_count": 16,
   "metadata": {},
   "outputs": [
    {
     "name": "stdout",
     "output_type": "stream",
     "text": [
      "shape: (47, 2)\n",
      "╭───────────────┬─────────────╮\n",
      "│ country       ┆ points_mean │\n",
      "│ ---           ┆ ---         │\n",
      "│ str           ┆ f64         │\n",
      "╞═══════════════╪═════════════╡\n",
      "│ \"England\"     ┆ 92.889      │\n",
      "├╌╌╌╌╌╌╌╌╌╌╌╌╌╌╌┼╌╌╌╌╌╌╌╌╌╌╌╌╌┤\n",
      "│ \"Austria\"     ┆ 89.277      │\n",
      "├╌╌╌╌╌╌╌╌╌╌╌╌╌╌╌┼╌╌╌╌╌╌╌╌╌╌╌╌╌┤\n",
      "│ \"France\"      ┆ 88.926      │\n",
      "├╌╌╌╌╌╌╌╌╌╌╌╌╌╌╌┼╌╌╌╌╌╌╌╌╌╌╌╌╌┤\n",
      "│ \"Germany\"     ┆ 88.626      │\n",
      "├╌╌╌╌╌╌╌╌╌╌╌╌╌╌╌┼╌╌╌╌╌╌╌╌╌╌╌╌╌┤\n",
      "│ ...           ┆ ...         │\n",
      "├╌╌╌╌╌╌╌╌╌╌╌╌╌╌╌┼╌╌╌╌╌╌╌╌╌╌╌╌╌┤\n",
      "│ \"Slovakia\"    ┆ 83.667      │\n",
      "├╌╌╌╌╌╌╌╌╌╌╌╌╌╌╌┼╌╌╌╌╌╌╌╌╌╌╌╌╌┤\n",
      "│ \"Brazil\"      ┆ 83.24       │\n",
      "├╌╌╌╌╌╌╌╌╌╌╌╌╌╌╌┼╌╌╌╌╌╌╌╌╌╌╌╌╌┤\n",
      "│ \"Montenegro\"  ┆ 82          │\n",
      "├╌╌╌╌╌╌╌╌╌╌╌╌╌╌╌┼╌╌╌╌╌╌╌╌╌╌╌╌╌┤\n",
      "│ \"China\"       ┆ 82          │\n",
      "├╌╌╌╌╌╌╌╌╌╌╌╌╌╌╌┼╌╌╌╌╌╌╌╌╌╌╌╌╌┤\n",
      "│ \"South Korea\" ┆ 81.5        │\n",
      "╰───────────────┴─────────────╯\n"
     ]
    }
   ],
   "source": [
    "# We group by country, select the `points` variable and call the mean to see the average number of points. After that we sort the list by 'average points'. \n",
    "print(data.groupby('country').select('points').mean().sort(by_column='points_mean', reverse=True))"
   ]
  },
  {
   "cell_type": "markdown",
   "metadata": {},
   "source": [
    "England is leading the list for the best wines. Wonder how they think about that on the other side of the Canal in France."
   ]
  },
  {
   "cell_type": "code",
   "execution_count": 17,
   "metadata": {},
   "outputs": [
    {
     "data": {
      "text/html": [
       "<div>\n",
       "<style scoped>\n",
       "    .dataframe tbody tr th:only-of-type {\n",
       "        vertical-align: middle;\n",
       "    }\n",
       "\n",
       "    .dataframe tbody tr th {\n",
       "        vertical-align: top;\n",
       "    }\n",
       "\n",
       "    .dataframe thead th {\n",
       "        text-align: right;\n",
       "    }\n",
       "</style>\n",
       "<table border=\"1 \"class=\"dataframe \">\n",
       "<thead>\n",
       "<tr>\n",
       "<th>\n",
       "country\n",
       "</th>\n",
       "<th>\n",
       "price_max\n",
       "</th>\n",
       "</tr>\n",
       "<tr>\n",
       "<td>\n",
       "str\n",
       "</td>\n",
       "<td>\n",
       "f64\n",
       "</td>\n",
       "</tr>\n",
       "</thead>\n",
       "<tbody>\n",
       "<tr>\n",
       "<td>\n",
       "\"France\"\n",
       "</td>\n",
       "<td>\n",
       "2300\n",
       "</td>\n",
       "</tr>\n",
       "<tr>\n",
       "<td>\n",
       "\"US\"\n",
       "</td>\n",
       "<td>\n",
       "2013\n",
       "</td>\n",
       "</tr>\n",
       "<tr>\n",
       "<td>\n",
       "\"Austria\"\n",
       "</td>\n",
       "<td>\n",
       "1100\n",
       "</td>\n",
       "</tr>\n",
       "<tr>\n",
       "<td>\n",
       "\"Portugal\"\n",
       "</td>\n",
       "<td>\n",
       "980\n",
       "</td>\n",
       "</tr>\n",
       "<tr>\n",
       "<td>\n",
       "\"Italy\"\n",
       "</td>\n",
       "<td>\n",
       "900\n",
       "</td>\n",
       "</tr>\n",
       "<tr>\n",
       "<td>\n",
       "\"Australia\"\n",
       "</td>\n",
       "<td>\n",
       "850\n",
       "</td>\n",
       "</tr>\n",
       "<tr>\n",
       "<td>\n",
       "\"Germany\"\n",
       "</td>\n",
       "<td>\n",
       "775\n",
       "</td>\n",
       "</tr>\n",
       "<tr>\n",
       "<td>\n",
       "\"Spain\"\n",
       "</td>\n",
       "<td>\n",
       "770\n",
       "</td>\n",
       "</tr>\n",
       "<tr>\n",
       "<td>\n",
       "\"Hungary\"\n",
       "</td>\n",
       "<td>\n",
       "764\n",
       "</td>\n",
       "</tr>\n",
       "<tr>\n",
       "<td>\n",
       "\"Chile\"\n",
       "</td>\n",
       "<td>\n",
       "400\n",
       "</td>\n",
       "</tr>\n",
       "<tr>\n",
       "<td>\n",
       "\"Romania\"\n",
       "</td>\n",
       "<td>\n",
       "320\n",
       "</td>\n",
       "</tr>\n",
       "<tr>\n",
       "<td>\n",
       "\"Argentina\"\n",
       "</td>\n",
       "<td>\n",
       "250\n",
       "</td>\n",
       "</tr>\n",
       "<tr>\n",
       "<td>\n",
       "...\n",
       "</td>\n",
       "<td>\n",
       "...\n",
       "</td>\n",
       "</tr>\n",
       "<tr>\n",
       "<td>\n",
       "\"Macedonia\"\n",
       "</td>\n",
       "<td>\n",
       "25\n",
       "</td>\n",
       "</tr>\n",
       "<tr>\n",
       "<td>\n",
       "\"Czech Republic\"\n",
       "</td>\n",
       "<td>\n",
       "25\n",
       "</td>\n",
       "</tr>\n",
       "<tr>\n",
       "<td>\n",
       "\"Japan\"\n",
       "</td>\n",
       "<td>\n",
       "24\n",
       "</td>\n",
       "</tr>\n",
       "<tr>\n",
       "<td>\n",
       "\"Cyprus\"\n",
       "</td>\n",
       "<td>\n",
       "22\n",
       "</td>\n",
       "</tr>\n",
       "<tr>\n",
       "<td>\n",
       "\"Albania\"\n",
       "</td>\n",
       "<td>\n",
       "20\n",
       "</td>\n",
       "</tr>\n",
       "<tr>\n",
       "<td>\n",
       "\"India\"\n",
       "</td>\n",
       "<td>\n",
       "20\n",
       "</td>\n",
       "</tr>\n",
       "<tr>\n",
       "<td>\n",
       "\"Slovakia\"\n",
       "</td>\n",
       "<td>\n",
       "16\n",
       "</td>\n",
       "</tr>\n",
       "<tr>\n",
       "<td>\n",
       "\"South Korea\"\n",
       "</td>\n",
       "<td>\n",
       "16\n",
       "</td>\n",
       "</tr>\n",
       "<tr>\n",
       "<td>\n",
       "\"Ukraine\"\n",
       "</td>\n",
       "<td>\n",
       "13\n",
       "</td>\n",
       "</tr>\n",
       "<tr>\n",
       "<td>\n",
       "\"Bosnia and Herzegovina\"\n",
       "</td>\n",
       "<td>\n",
       "13\n",
       "</td>\n",
       "</tr>\n",
       "<tr>\n",
       "<td>\n",
       "\"Montenegro\"\n",
       "</td>\n",
       "<td>\n",
       "10\n",
       "</td>\n",
       "</tr>\n",
       "<tr>\n",
       "<td>\n",
       "\"Lithuania\"\n",
       "</td>\n",
       "<td>\n",
       "10\n",
       "</td>\n",
       "</tr>\n",
       "</tbody>\n",
       "</table>\n",
       "</div>"
      ],
      "text/plain": [
       "shape: (47, 2)\n",
       "╭──────────────────────────┬───────────╮\n",
       "│ country                  ┆ price_max │\n",
       "│ ---                      ┆ ---       │\n",
       "│ str                      ┆ f64       │\n",
       "╞══════════════════════════╪═══════════╡\n",
       "│ \"France\"                 ┆ 2300      │\n",
       "├╌╌╌╌╌╌╌╌╌╌╌╌╌╌╌╌╌╌╌╌╌╌╌╌╌╌┼╌╌╌╌╌╌╌╌╌╌╌┤\n",
       "│ \"US\"                     ┆ 2013      │\n",
       "├╌╌╌╌╌╌╌╌╌╌╌╌╌╌╌╌╌╌╌╌╌╌╌╌╌╌┼╌╌╌╌╌╌╌╌╌╌╌┤\n",
       "│ \"Austria\"                ┆ 1100      │\n",
       "├╌╌╌╌╌╌╌╌╌╌╌╌╌╌╌╌╌╌╌╌╌╌╌╌╌╌┼╌╌╌╌╌╌╌╌╌╌╌┤\n",
       "│ \"Portugal\"               ┆ 980       │\n",
       "├╌╌╌╌╌╌╌╌╌╌╌╌╌╌╌╌╌╌╌╌╌╌╌╌╌╌┼╌╌╌╌╌╌╌╌╌╌╌┤\n",
       "│ ...                      ┆ ...       │\n",
       "├╌╌╌╌╌╌╌╌╌╌╌╌╌╌╌╌╌╌╌╌╌╌╌╌╌╌┼╌╌╌╌╌╌╌╌╌╌╌┤\n",
       "│ \"South Korea\"            ┆ 16        │\n",
       "├╌╌╌╌╌╌╌╌╌╌╌╌╌╌╌╌╌╌╌╌╌╌╌╌╌╌┼╌╌╌╌╌╌╌╌╌╌╌┤\n",
       "│ \"Ukraine\"                ┆ 13        │\n",
       "├╌╌╌╌╌╌╌╌╌╌╌╌╌╌╌╌╌╌╌╌╌╌╌╌╌╌┼╌╌╌╌╌╌╌╌╌╌╌┤\n",
       "│ \"Bosnia and Herzegovina\" ┆ 13        │\n",
       "├╌╌╌╌╌╌╌╌╌╌╌╌╌╌╌╌╌╌╌╌╌╌╌╌╌╌┼╌╌╌╌╌╌╌╌╌╌╌┤\n",
       "│ \"Montenegro\"             ┆ 10        │\n",
       "├╌╌╌╌╌╌╌╌╌╌╌╌╌╌╌╌╌╌╌╌╌╌╌╌╌╌┼╌╌╌╌╌╌╌╌╌╌╌┤\n",
       "│ \"Lithuania\"              ┆ 10        │\n",
       "╰──────────────────────────┴───────────╯"
      ]
     },
     "execution_count": 17,
     "metadata": {},
     "output_type": "execute_result"
    }
   ],
   "source": [
    "data.groupby('country').select('price').max().sort(by_column='price_max', reverse=True)"
   ]
  },
  {
   "cell_type": "markdown",
   "metadata": {},
   "source": [
    "### Plotting while using Polars"
   ]
  },
  {
   "cell_type": "markdown",
   "metadata": {},
   "source": [
    "To get a better insight into the differences it always helps to have some nice plots. Where Pandas has a plotting functionality build in, we have to rely on our Matplotlib skills for Polars. We focus on the top 15 countries."
   ]
  },
  {
   "cell_type": "code",
   "execution_count": 18,
   "metadata": {},
   "outputs": [],
   "source": [
    "# Get a list of the top 15 countries by taking the first 15 rows of the groupby that we did earlier\n",
    "top_15_countries = data.groupby('country').select('points').mean().sort(by_column='points_mean', reverse=True)[:15][0]"
   ]
  },
  {
   "cell_type": "code",
   "execution_count": 19,
   "metadata": {},
   "outputs": [],
   "source": [
    "df_top15 = pl.DataFrame({'country': top_15_countries}).join(data, on='country', how='left')"
   ]
  },
  {
   "cell_type": "markdown",
   "metadata": {},
   "source": [
    "Now that we have a top 15 countries, it is time to have a closer look at the distribution of points per `country`."
   ]
  },
  {
   "cell_type": "code",
   "execution_count": 20,
   "metadata": {},
   "outputs": [
    {
     "data": {
      "image/png": "[encoded data removed]",
      "text/plain": [
       "<Figure size 1080x360 with 1 Axes>"
      ]
     },
     "metadata": {
      "needs_background": "light"
     },
     "output_type": "display_data"
    }
   ],
   "source": [
    "fig, ax = plt.subplots(figsize=(15, 5))\n",
    "\n",
    "for i, x in enumerate(df_top15['country'].unique()):\n",
    "    ax.boxplot(df_top15[df_top15['country'] == x]['points'], labels=[str(x)], positions=[i])\n",
    "\n",
    "plt.xticks(rotation=90)\n",
    "plt.xlabel('Countries')\n",
    "plt.ylabel('Average points')\n",
    "plt.show()"
   ]
  },
  {
   "cell_type": "markdown",
   "metadata": {},
   "source": [
    "## Time to go lazy"
   ]
  },
  {
   "cell_type": "markdown",
   "metadata": {},
   "source": [
    "The lazy API offers a way to optimise your queries, similar to Spark. The major benefit over spark is that we don't have to set up our environment and can therefore continue working from our notebook.\n",
    "\n",
    "More information can be found in the [Polars-book](https://ritchie46.github.io/polars-book/lazy_polars/intro.html)"
   ]
  },
  {
   "cell_type": "code",
   "execution_count": 5,
   "metadata": {},
   "outputs": [],
   "source": [
    "import polars as pl"
   ]
  },
  {
   "cell_type": "code",
   "execution_count": 6,
   "metadata": {},
   "outputs": [
    {
     "ename": "OSError",
     "evalue": "No such file or directory (os error 2)",
     "output_type": "error",
     "traceback": [
      "\u001b[0;31m---------------------------------------------------------------------------\u001b[0m",
      "\u001b[0;31mOSError\u001b[0m                                   Traceback (most recent call last)",
      "Cell \u001b[0;32mIn [6], line 1\u001b[0m\n\u001b[0;32m----> 1\u001b[0m lazy_df \u001b[38;5;241m=\u001b[39m \u001b[43mpl\u001b[49m\u001b[38;5;241;43m.\u001b[39;49m\u001b[43mscan_csv\u001b[49m\u001b[43m(\u001b[49m\u001b[38;5;124;43m'\u001b[39;49m\u001b[38;5;124;43mwinemag-data.csv\u001b[39;49m\u001b[38;5;124;43m'\u001b[39;49m\u001b[43m,\u001b[49m\u001b[43m \u001b[49m\u001b[43mignore_errors\u001b[49m\u001b[38;5;241;43m=\u001b[39;49m\u001b[38;5;28;43;01mTrue\u001b[39;49;00m\u001b[43m)\u001b[49m\n\u001b[1;32m      2\u001b[0m \u001b[38;5;28mprint\u001b[39m(\u001b[38;5;28mtype\u001b[39m(lazy_df))\n",
      "File \u001b[0;32m~/Documents/dev/pieton/tutorials/polars-tutorial/venv/lib/python3.9/site-packages/polars/utils.py:310\u001b[0m, in \u001b[0;36mdeprecated_alias.<locals>.deco.<locals>.wrapper\u001b[0;34m(*args, **kwargs)\u001b[0m\n\u001b[1;32m    307\u001b[0m \u001b[38;5;129m@functools\u001b[39m\u001b[38;5;241m.\u001b[39mwraps(fn)\n\u001b[1;32m    308\u001b[0m \u001b[38;5;28;01mdef\u001b[39;00m \u001b[38;5;21mwrapper\u001b[39m(\u001b[38;5;241m*\u001b[39margs: P\u001b[38;5;241m.\u001b[39margs, \u001b[38;5;241m*\u001b[39m\u001b[38;5;241m*\u001b[39mkwargs: P\u001b[38;5;241m.\u001b[39mkwargs) \u001b[38;5;241m-\u001b[39m\u001b[38;5;241m>\u001b[39m T:\n\u001b[1;32m    309\u001b[0m     _rename_kwargs(fn\u001b[38;5;241m.\u001b[39m\u001b[38;5;18m__name__\u001b[39m, kwargs, aliases)\n\u001b[0;32m--> 310\u001b[0m     \u001b[38;5;28;01mreturn\u001b[39;00m \u001b[43mfn\u001b[49m\u001b[43m(\u001b[49m\u001b[38;5;241;43m*\u001b[39;49m\u001b[43margs\u001b[49m\u001b[43m,\u001b[49m\u001b[43m \u001b[49m\u001b[38;5;241;43m*\u001b[39;49m\u001b[38;5;241;43m*\u001b[39;49m\u001b[43mkwargs\u001b[49m\u001b[43m)\u001b[49m\n",
      "File \u001b[0;32m~/Documents/dev/pieton/tutorials/polars-tutorial/venv/lib/python3.9/site-packages/polars/io.py:570\u001b[0m, in \u001b[0;36mscan_csv\u001b[0;34m(file, has_header, sep, comment_char, quote_char, skip_rows, dtypes, null_values, ignore_errors, cache, with_column_names, infer_schema_length, n_rows, encoding, low_memory, rechunk, skip_rows_after_header, row_count_name, row_count_offset, parse_dates, eol_char)\u001b[0m\n\u001b[1;32m    567\u001b[0m \u001b[38;5;28;01mif\u001b[39;00m \u001b[38;5;28misinstance\u001b[39m(file, (\u001b[38;5;28mstr\u001b[39m, Path)):\n\u001b[1;32m    568\u001b[0m     file \u001b[38;5;241m=\u001b[39m format_path(file)\n\u001b[0;32m--> 570\u001b[0m \u001b[38;5;28;01mreturn\u001b[39;00m \u001b[43mLazyFrame\u001b[49m\u001b[38;5;241;43m.\u001b[39;49m\u001b[43m_scan_csv\u001b[49m\u001b[43m(\u001b[49m\n\u001b[1;32m    571\u001b[0m \u001b[43m    \u001b[49m\u001b[43mfile\u001b[49m\u001b[38;5;241;43m=\u001b[39;49m\u001b[43mfile\u001b[49m\u001b[43m,\u001b[49m\n\u001b[1;32m    572\u001b[0m \u001b[43m    \u001b[49m\u001b[43mhas_header\u001b[49m\u001b[38;5;241;43m=\u001b[39;49m\u001b[43mhas_header\u001b[49m\u001b[43m,\u001b[49m\n\u001b[1;32m    573\u001b[0m \u001b[43m    \u001b[49m\u001b[43msep\u001b[49m\u001b[38;5;241;43m=\u001b[39;49m\u001b[43msep\u001b[49m\u001b[43m,\u001b[49m\n\u001b[1;32m    574\u001b[0m \u001b[43m    \u001b[49m\u001b[43mcomment_char\u001b[49m\u001b[38;5;241;43m=\u001b[39;49m\u001b[43mcomment_char\u001b[49m\u001b[43m,\u001b[49m\n\u001b[1;32m    575\u001b[0m \u001b[43m    \u001b[49m\u001b[43mquote_char\u001b[49m\u001b[38;5;241;43m=\u001b[39;49m\u001b[43mquote_char\u001b[49m\u001b[43m,\u001b[49m\n\u001b[1;32m    576\u001b[0m \u001b[43m    \u001b[49m\u001b[43mskip_rows\u001b[49m\u001b[38;5;241;43m=\u001b[39;49m\u001b[43mskip_rows\u001b[49m\u001b[43m,\u001b[49m\n\u001b[1;32m    577\u001b[0m \u001b[43m    \u001b[49m\u001b[43mdtypes\u001b[49m\u001b[38;5;241;43m=\u001b[39;49m\u001b[43mdtypes\u001b[49m\u001b[43m,\u001b[49m\n\u001b[1;32m    578\u001b[0m \u001b[43m    \u001b[49m\u001b[43mnull_values\u001b[49m\u001b[38;5;241;43m=\u001b[39;49m\u001b[43mnull_values\u001b[49m\u001b[43m,\u001b[49m\n\u001b[1;32m    579\u001b[0m \u001b[43m    \u001b[49m\u001b[43mignore_errors\u001b[49m\u001b[38;5;241;43m=\u001b[39;49m\u001b[43mignore_errors\u001b[49m\u001b[43m,\u001b[49m\n\u001b[1;32m    580\u001b[0m \u001b[43m    \u001b[49m\u001b[43mcache\u001b[49m\u001b[38;5;241;43m=\u001b[39;49m\u001b[43mcache\u001b[49m\u001b[43m,\u001b[49m\n\u001b[1;32m    581\u001b[0m \u001b[43m    \u001b[49m\u001b[43mwith_column_names\u001b[49m\u001b[38;5;241;43m=\u001b[39;49m\u001b[43mwith_column_names\u001b[49m\u001b[43m,\u001b[49m\n\u001b[1;32m    582\u001b[0m \u001b[43m    \u001b[49m\u001b[43minfer_schema_length\u001b[49m\u001b[38;5;241;43m=\u001b[39;49m\u001b[43minfer_schema_length\u001b[49m\u001b[43m,\u001b[49m\n\u001b[1;32m    583\u001b[0m \u001b[43m    \u001b[49m\u001b[43mn_rows\u001b[49m\u001b[38;5;241;43m=\u001b[39;49m\u001b[43mn_rows\u001b[49m\u001b[43m,\u001b[49m\n\u001b[1;32m    584\u001b[0m \u001b[43m    \u001b[49m\u001b[43mlow_memory\u001b[49m\u001b[38;5;241;43m=\u001b[39;49m\u001b[43mlow_memory\u001b[49m\u001b[43m,\u001b[49m\n\u001b[1;32m    585\u001b[0m \u001b[43m    \u001b[49m\u001b[43mrechunk\u001b[49m\u001b[38;5;241;43m=\u001b[39;49m\u001b[43mrechunk\u001b[49m\u001b[43m,\u001b[49m\n\u001b[1;32m    586\u001b[0m \u001b[43m    \u001b[49m\u001b[43mskip_rows_after_header\u001b[49m\u001b[38;5;241;43m=\u001b[39;49m\u001b[43mskip_rows_after_header\u001b[49m\u001b[43m,\u001b[49m\n\u001b[1;32m    587\u001b[0m \u001b[43m    \u001b[49m\u001b[43mencoding\u001b[49m\u001b[38;5;241;43m=\u001b[39;49m\u001b[43mencoding\u001b[49m\u001b[43m,\u001b[49m\n\u001b[1;32m    588\u001b[0m \u001b[43m    \u001b[49m\u001b[43mrow_count_name\u001b[49m\u001b[38;5;241;43m=\u001b[39;49m\u001b[43mrow_count_name\u001b[49m\u001b[43m,\u001b[49m\n\u001b[1;32m    589\u001b[0m \u001b[43m    \u001b[49m\u001b[43mrow_count_offset\u001b[49m\u001b[38;5;241;43m=\u001b[39;49m\u001b[43mrow_count_offset\u001b[49m\u001b[43m,\u001b[49m\n\u001b[1;32m    590\u001b[0m \u001b[43m    \u001b[49m\u001b[43mparse_dates\u001b[49m\u001b[38;5;241;43m=\u001b[39;49m\u001b[43mparse_dates\u001b[49m\u001b[43m,\u001b[49m\n\u001b[1;32m    591\u001b[0m \u001b[43m    \u001b[49m\u001b[43meol_char\u001b[49m\u001b[38;5;241;43m=\u001b[39;49m\u001b[43meol_char\u001b[49m\u001b[43m,\u001b[49m\n\u001b[1;32m    592\u001b[0m \u001b[43m\u001b[49m\u001b[43m)\u001b[49m\n",
      "File \u001b[0;32m~/Documents/dev/pieton/tutorials/polars-tutorial/venv/lib/python3.9/site-packages/polars/internals/lazyframe/frame.py:146\u001b[0m, in \u001b[0;36mLazyFrame._scan_csv\u001b[0;34m(cls, file, has_header, sep, comment_char, quote_char, skip_rows, dtypes, null_values, ignore_errors, cache, with_column_names, infer_schema_length, n_rows, encoding, low_memory, rechunk, skip_rows_after_header, row_count_name, row_count_offset, parse_dates, eol_char)\u001b[0m\n\u001b[1;32m    143\u001b[0m processed_null_values \u001b[38;5;241m=\u001b[39m _process_null_values(null_values)\n\u001b[1;32m    145\u001b[0m \u001b[38;5;28mself\u001b[39m \u001b[38;5;241m=\u001b[39m \u001b[38;5;28mcls\u001b[39m\u001b[38;5;241m.\u001b[39m\u001b[38;5;21m__new__\u001b[39m(\u001b[38;5;28mcls\u001b[39m)\n\u001b[0;32m--> 146\u001b[0m \u001b[38;5;28mself\u001b[39m\u001b[38;5;241m.\u001b[39m_ldf \u001b[38;5;241m=\u001b[39m \u001b[43mPyLazyFrame\u001b[49m\u001b[38;5;241;43m.\u001b[39;49m\u001b[43mnew_from_csv\u001b[49m\u001b[43m(\u001b[49m\n\u001b[1;32m    147\u001b[0m \u001b[43m    \u001b[49m\u001b[43mfile\u001b[49m\u001b[43m,\u001b[49m\n\u001b[1;32m    148\u001b[0m \u001b[43m    \u001b[49m\u001b[43msep\u001b[49m\u001b[43m,\u001b[49m\n\u001b[1;32m    149\u001b[0m \u001b[43m    \u001b[49m\u001b[43mhas_header\u001b[49m\u001b[43m,\u001b[49m\n\u001b[1;32m    150\u001b[0m \u001b[43m    \u001b[49m\u001b[43mignore_errors\u001b[49m\u001b[43m,\u001b[49m\n\u001b[1;32m    151\u001b[0m \u001b[43m    \u001b[49m\u001b[43mskip_rows\u001b[49m\u001b[43m,\u001b[49m\n\u001b[1;32m    152\u001b[0m \u001b[43m    \u001b[49m\u001b[43mn_rows\u001b[49m\u001b[43m,\u001b[49m\n\u001b[1;32m    153\u001b[0m \u001b[43m    \u001b[49m\u001b[43mcache\u001b[49m\u001b[43m,\u001b[49m\n\u001b[1;32m    154\u001b[0m \u001b[43m    \u001b[49m\u001b[43mdtype_list\u001b[49m\u001b[43m,\u001b[49m\n\u001b[1;32m    155\u001b[0m \u001b[43m    \u001b[49m\u001b[43mlow_memory\u001b[49m\u001b[43m,\u001b[49m\n\u001b[1;32m    156\u001b[0m \u001b[43m    \u001b[49m\u001b[43mcomment_char\u001b[49m\u001b[43m,\u001b[49m\n\u001b[1;32m    157\u001b[0m \u001b[43m    \u001b[49m\u001b[43mquote_char\u001b[49m\u001b[43m,\u001b[49m\n\u001b[1;32m    158\u001b[0m \u001b[43m    \u001b[49m\u001b[43mprocessed_null_values\u001b[49m\u001b[43m,\u001b[49m\n\u001b[1;32m    159\u001b[0m \u001b[43m    \u001b[49m\u001b[43minfer_schema_length\u001b[49m\u001b[43m,\u001b[49m\n\u001b[1;32m    160\u001b[0m \u001b[43m    \u001b[49m\u001b[43mwith_column_names\u001b[49m\u001b[43m,\u001b[49m\n\u001b[1;32m    161\u001b[0m \u001b[43m    \u001b[49m\u001b[43mrechunk\u001b[49m\u001b[43m,\u001b[49m\n\u001b[1;32m    162\u001b[0m \u001b[43m    \u001b[49m\u001b[43mskip_rows_after_header\u001b[49m\u001b[43m,\u001b[49m\n\u001b[1;32m    163\u001b[0m \u001b[43m    \u001b[49m\u001b[43mencoding\u001b[49m\u001b[43m,\u001b[49m\n\u001b[1;32m    164\u001b[0m \u001b[43m    \u001b[49m\u001b[43m_prepare_row_count_args\u001b[49m\u001b[43m(\u001b[49m\u001b[43mrow_count_name\u001b[49m\u001b[43m,\u001b[49m\u001b[43m \u001b[49m\u001b[43mrow_count_offset\u001b[49m\u001b[43m)\u001b[49m\u001b[43m,\u001b[49m\n\u001b[1;32m    165\u001b[0m \u001b[43m    \u001b[49m\u001b[43mparse_dates\u001b[49m\u001b[43m,\u001b[49m\n\u001b[1;32m    166\u001b[0m \u001b[43m    \u001b[49m\u001b[43meol_char\u001b[49m\u001b[38;5;241;43m=\u001b[39;49m\u001b[43meol_char\u001b[49m\u001b[43m,\u001b[49m\n\u001b[1;32m    167\u001b[0m \u001b[43m\u001b[49m\u001b[43m)\u001b[49m\n\u001b[1;32m    168\u001b[0m \u001b[38;5;28;01mreturn\u001b[39;00m \u001b[38;5;28mself\u001b[39m\n",
      "\u001b[0;31mOSError\u001b[0m: No such file or directory (os error 2)"
     ]
    }
   ],
   "source": [
    "lazy_df = pl.scan_csv('winemag-data.csv', ignore_errors=True)\n",
    "print(type(lazy_df))"
   ]
  },
  {
   "cell_type": "markdown",
   "metadata": {},
   "source": [
    "Printing the type returns 'polars.lazy.LazyFrame' indicating the data is available to us. On to the groupby `country` and find the average `points` to compare with the eager API that we used earlier.\n",
    "\n",
    "Similar to the filters that we did with the eager API we are going to filter the unknown and 'US-France' values in the `country` variable first."
   ]
  },
  {
   "cell_type": "code",
   "execution_count": 23,
   "metadata": {},
   "outputs": [],
   "source": [
    "lazy_df = (\n",
    "    lazy_df\n",
    "    .filter(col('country').str_lengths() > 0)\n",
    "    .filter(col('country').str_contains(r'US-France').is_not())\n",
    ")"
   ]
  },
  {
   "cell_type": "markdown",
   "metadata": {},
   "source": [
    "As we can see nothing happens right away. From the documentation: '_This is due to the lazyness, nothing will happen until specifically requested. This allows Polars to see the whole context of a query and optimize just in time for execution._'"
   ]
  },
  {
   "cell_type": "code",
   "execution_count": 24,
   "metadata": {},
   "outputs": [],
   "source": [
    " lazy_df = (\n",
    "    lazy_df\n",
    "    .groupby('country')\n",
    "    .agg([pl.mean('points').alias('avg_points')])\n",
    "    .sort(\"avg_points\", reverse=True)\n",
    ")"
   ]
  },
  {
   "cell_type": "markdown",
   "metadata": {},
   "source": [
    "As we can see the syntax of the lazy API is different from what we did in the beginning. Although it takes some getting used to the syntax gives a nice overview of the different steps we want to take.\n",
    "\n",
    "To actually see the results we can do two things: `collect()` and `fetch()`. The difference is that `fetch` takes the first 500 rows and then runs the query, whereas `collect` runs the query over all the results. Below we can see the differences for our case."
   ]
  },
  {
   "cell_type": "code",
   "execution_count": 25,
   "metadata": {},
   "outputs": [
    {
     "name": "stdout",
     "output_type": "stream",
     "text": [
      "shape: (47, 2)\n",
      "╭───────────────┬────────────╮\n",
      "│ country       ┆ avg_points │\n",
      "│ ---           ┆ ---        │\n",
      "│ str           ┆ f64        │\n",
      "╞═══════════════╪════════════╡\n",
      "│ \"England\"     ┆ 92.889     │\n",
      "├╌╌╌╌╌╌╌╌╌╌╌╌╌╌╌┼╌╌╌╌╌╌╌╌╌╌╌╌┤\n",
      "│ \"Austria\"     ┆ 89.277     │\n",
      "├╌╌╌╌╌╌╌╌╌╌╌╌╌╌╌┼╌╌╌╌╌╌╌╌╌╌╌╌┤\n",
      "│ \"France\"      ┆ 88.894     │\n",
      "├╌╌╌╌╌╌╌╌╌╌╌╌╌╌╌┼╌╌╌╌╌╌╌╌╌╌╌╌┤\n",
      "│ \"Germany\"     ┆ 88.626     │\n",
      "├╌╌╌╌╌╌╌╌╌╌╌╌╌╌╌┼╌╌╌╌╌╌╌╌╌╌╌╌┤\n",
      "│ ...           ┆ ...        │\n",
      "├╌╌╌╌╌╌╌╌╌╌╌╌╌╌╌┼╌╌╌╌╌╌╌╌╌╌╌╌┤\n",
      "│ \"Slovakia\"    ┆ 83.667     │\n",
      "├╌╌╌╌╌╌╌╌╌╌╌╌╌╌╌┼╌╌╌╌╌╌╌╌╌╌╌╌┤\n",
      "│ \"Brazil\"      ┆ 83.24      │\n",
      "├╌╌╌╌╌╌╌╌╌╌╌╌╌╌╌┼╌╌╌╌╌╌╌╌╌╌╌╌┤\n",
      "│ \"Montenegro\"  ┆ 82         │\n",
      "├╌╌╌╌╌╌╌╌╌╌╌╌╌╌╌┼╌╌╌╌╌╌╌╌╌╌╌╌┤\n",
      "│ \"China\"       ┆ 82         │\n",
      "├╌╌╌╌╌╌╌╌╌╌╌╌╌╌╌┼╌╌╌╌╌╌╌╌╌╌╌╌┤\n",
      "│ \"South Korea\" ┆ 81.5       │\n",
      "╰───────────────┴────────────╯\n"
     ]
    }
   ],
   "source": [
    "print(lazy_df.collect())"
   ]
  },
  {
   "cell_type": "code",
   "execution_count": 26,
   "metadata": {},
   "outputs": [
    {
     "name": "stdout",
     "output_type": "stream",
     "text": [
      "shape: (19, 2)\n",
      "╭────────────────┬────────────╮\n",
      "│ country        ┆ avg_points │\n",
      "│ ---            ┆ ---        │\n",
      "│ str            ┆ f64        │\n",
      "╞════════════════╪════════════╡\n",
      "│ \"Morocco\"      ┆ 93         │\n",
      "├╌╌╌╌╌╌╌╌╌╌╌╌╌╌╌╌┼╌╌╌╌╌╌╌╌╌╌╌╌┤\n",
      "│ \"Israel\"       ┆ 91         │\n",
      "├╌╌╌╌╌╌╌╌╌╌╌╌╌╌╌╌┼╌╌╌╌╌╌╌╌╌╌╌╌┤\n",
      "│ \"Australia\"    ┆ 91         │\n",
      "├╌╌╌╌╌╌╌╌╌╌╌╌╌╌╌╌┼╌╌╌╌╌╌╌╌╌╌╌╌┤\n",
      "│ \"Germany\"      ┆ 90.167     │\n",
      "├╌╌╌╌╌╌╌╌╌╌╌╌╌╌╌╌┼╌╌╌╌╌╌╌╌╌╌╌╌┤\n",
      "│ ...            ┆ ...        │\n",
      "├╌╌╌╌╌╌╌╌╌╌╌╌╌╌╌╌┼╌╌╌╌╌╌╌╌╌╌╌╌┤\n",
      "│ \"South Africa\" ┆ 86         │\n",
      "├╌╌╌╌╌╌╌╌╌╌╌╌╌╌╌╌┼╌╌╌╌╌╌╌╌╌╌╌╌┤\n",
      "│ \"US\"           ┆ 82.481     │\n",
      "├╌╌╌╌╌╌╌╌╌╌╌╌╌╌╌╌┼╌╌╌╌╌╌╌╌╌╌╌╌┤\n",
      "│ \"Spain\"        ┆ 72.579     │\n",
      "├╌╌╌╌╌╌╌╌╌╌╌╌╌╌╌╌┼╌╌╌╌╌╌╌╌╌╌╌╌┤\n",
      "│ \"New Zealand\"  ┆ 47         │\n",
      "├╌╌╌╌╌╌╌╌╌╌╌╌╌╌╌╌┼╌╌╌╌╌╌╌╌╌╌╌╌┤\n",
      "│ \"Bulgaria\"     ┆ null       │\n",
      "╰────────────────┴────────────╯\n"
     ]
    }
   ],
   "source": [
    "print(lazy_df.fetch())"
   ]
  },
  {
   "cell_type": "code",
   "execution_count": 27,
   "metadata": {},
   "outputs": [
    {
     "name": "stdout",
     "output_type": "stream",
     "text": [
      "The length of collect() is 47\n",
      "The length of fetch() is 19\n"
     ]
    }
   ],
   "source": [
    "print(f'The length of collect() is {len(lazy_df.collect())}')\n",
    "print(f'The length of fetch() is {len(lazy_df.fetch())}')"
   ]
  },
  {
   "cell_type": "markdown",
   "metadata": {},
   "source": [
    "## Output"
   ]
  },
  {
   "cell_type": "markdown",
   "metadata": {},
   "source": [
    "We have got the output that we are looking for. Polars offers several ways to output our analyses, even to other formats useful for further analyses (e.g. pandas dataframe (`to_pandas()`) or numpy arrays (`to_numpy()`)."
   ]
  },
  {
   "cell_type": "code",
   "execution_count": 28,
   "metadata": {},
   "outputs": [],
   "source": [
    "lazy_df.collect().to_csv('results.csv')"
   ]
  },
  {
   "cell_type": "markdown",
   "metadata": {},
   "source": [
    "## Final word\n"
   ]
  },
  {
   "cell_type": "markdown",
   "metadata": {},
   "source": [
    "Polars is a new package that is gaining a lot of attention. At the time of writing this article, it has gathered more than 1300 stars on Github, which is impressive looking at the fact that is around for less than a year. It offers almost all the functions that we need to manipulate our dataframe. Next to that, it offers a lazy API that helps us optimising our queries before we execute them. Although we didn't touch it is in this article, the benchmark of H20 shows that it is super efficient and fast. Especially with larger datasets it becomes worthwhile to look into the benefits that the lazy API has to offer.\n",
    "\n",
    "I hope this article showed some of the potential Polars has to offer. There is a lot more to explore. The developer behind Polars is very responsive to issues. For (beginning) open source developers there are plenty of opportunities to contribute, both on the Python and Rust side. If you want to know more about the design decisions in Polars, I highly recommend [this blogpost](https://www.ritchievink.com/blog/2021/02/28/i-wrote-one-of-the-fastest-dataframe-libraries/) from the developer behind the package.\n",
    "\n",
    "[link to Polars' Github page](https://github.com/ritchie46/polars)\n"
   ]
  },
  {
   "cell_type": "markdown",
   "metadata": {},
   "source": [
    "\n",
    "![polars-logo](./static/polars-logo-dark.svg)"
   ]
  },
  {
   "cell_type": "code",
   "execution_count": null,
   "metadata": {},
   "outputs": [],
   "source": []
  }
 ],
 "metadata": {
  "kernelspec": {
   "display_name": "Python 3 (ipykernel)",
   "language": "python",
   "name": "python3"
  },
  "language_info": {
   "codemirror_mode": {
    "name": "ipython",
    "version": 3
   },
   "file_extension": ".py",
   "mimetype": "text/x-python",
   "name": "python",
   "nbconvert_exporter": "python",
   "pygments_lexer": "ipython3",
   "version": "3.9.6"
  }
 },
 "nbformat": 4,
 "nbformat_minor": 4
}
