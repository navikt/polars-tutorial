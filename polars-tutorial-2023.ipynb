{
 "cells": [
  {
   "cell_type": "markdown",
   "id": "fe2acc51",
   "metadata": {},
   "source": [
    "# Polars - Blazingly fast DataFrames in 2023"
   ]
  },
  {
   "cell_type": "markdown",
   "id": "6ed07205",
   "metadata": {},
   "source": [
    "It has been over 2 years already since [I created my first notebook about Polars](https://github.com/r-brink/polars-tutorial/blob/master/polars-tutorial.ipynb) ([Medium post here](https://r-brink.medium.com/introduction-to-polars-ee9e638dc163)). Back then a small project started by Ritchie Vink with promising performance. 2 years later, the project has over 10.000 stars on [Github](https://github.com/pola-rs/polars) and is still leading many performance benchmarks. \n",
    "\n",
    "In this updated tutorial we will revisit the original analyses and rewrite the queries following the latest version of Polars and the Polars book.\n",
    "\n",
    "The structure of this repo:\n",
    "\n",
    "\n",
    "> Remarks written in the earlier notebook are marked like this (as a quote)\n",
    "\n",
    "\n",
    "```python\n",
    "import polars as pl\n",
    "\n",
    "# code snippets from the previous notebook are commented out in the same cell\n",
    "# so you can compare them easily\n",
    "```"
   ]
  },
  {
   "cell_type": "markdown",
   "id": "66d4283c",
   "metadata": {},
   "source": [
    "## Installing Polars"
   ]
  },
  {
   "cell_type": "markdown",
   "id": "17feb66b",
   "metadata": {},
   "source": [
    "The first notebook ran with Polars `0.7.0`. Definitely time for an update.\n",
    "\n",
    "First install Polars in your virtual environment. In this notebook we will work with Polars version 0.15.7. Add this to the pip install to ensure all cells run.\n",
    "\n",
    "```shell\n",
    "pip install polars==0.15.7\n",
    "```"
   ]
  },
  {
   "cell_type": "markdown",
   "id": "d602caf8",
   "metadata": {},
   "source": [
    "### Importing relevant packages and loading the data"
   ]
  },
  {
   "cell_type": "code",
   "execution_count": 2,
   "id": "b047b646",
   "metadata": {},
   "outputs": [],
   "source": [
    "import polars as pl\n",
    "\n",
    "import matplotlib.pyplot as plt\n",
    "%matplotlib inline"
   ]
  },
  {
   "cell_type": "markdown",
   "id": "d1332309",
   "metadata": {},
   "source": [
    "Nothing changed here. Still `import polars as pl`. "
   ]
  },
  {
   "cell_type": "markdown",
   "id": "9851fb40",
   "metadata": {},
   "source": [
    "> Polars already offers many functionalities that we are already familiar if you have worked with Pandas before. We can find an overview, including examples (for most), in the reference guide.\n",
    "\n",
    "Find the dataset that we are going to use here: [Winemag-dataset](https://medium.com/p/48db12c0f067/edit#%20find%20the%20dataset%20here:%20https://www.kaggle.com/zynicide/wine-reviews/?select=winemag-data_first150k.csv)"
   ]
  },
  {
   "cell_type": "code",
   "execution_count": 5,
   "id": "d37aa19f",
   "metadata": {},
   "outputs": [],
   "source": [
    "df = pl.read_csv('winemag-data_first150k.csv')"
   ]
  },
  {
   "cell_type": "markdown",
   "id": "ae3db072",
   "metadata": {},
   "source": [
    "### Basic dataframe inspection"
   ]
  },
  {
   "cell_type": "code",
   "execution_count": 6,
   "id": "ec2c1155",
   "metadata": {},
   "outputs": [
    {
     "data": {
      "text/plain": "(150930, 11)"
     },
     "execution_count": 6,
     "metadata": {},
     "output_type": "execute_result"
    }
   ],
   "source": [
    "df.shape"
   ]
  },
  {
   "cell_type": "code",
   "execution_count": 7,
   "id": "42a30b76",
   "metadata": {},
   "outputs": [
    {
     "data": {
      "text/plain": "['',\n 'country',\n 'description',\n 'designation',\n 'points',\n 'price',\n 'province',\n 'region_1',\n 'region_2',\n 'variety',\n 'winery']"
     },
     "execution_count": 7,
     "metadata": {},
     "output_type": "execute_result"
    }
   ],
   "source": [
    "df.columns"
   ]
  },
  {
   "cell_type": "markdown",
   "id": "b53f9812",
   "metadata": {},
   "source": [
    "Nothing has changed so far, until now. Instead of the Pandas-like syntax we used two years ago. We will use the expressions, as recommended by Polars.\n",
    "\n",
    "> We strongly recommend selecting data with expressions for almost all use cases. Square bracket indexing is perhaps useful when doing exploratory data analysis in a terminal or notebook when you just want a quick look at a subset of data. ~ [Polars User Guide](https://pola-rs.github.io/polars-book/user-guide/)"
   ]
  },
  {
   "cell_type": "code",
   "execution_count": 11,
   "id": "6209ab83",
   "metadata": {},
   "outputs": [
    {
     "data": {
      "text/plain": "shape: (5, 11)\n┌────────┬───────────┬───────────┬───────────┬───┬────────────┬────────────┬───────────┬───────────┐\n│        ┆ country   ┆ descripti ┆ designati ┆ … ┆ region_1   ┆ region_2   ┆ variety   ┆ winery    │\n│ ---    ┆ ---       ┆ on        ┆ on        ┆   ┆ ---        ┆ ---        ┆ ---       ┆ ---       │\n│ i64    ┆ str       ┆ ---       ┆ ---       ┆   ┆ str        ┆ str        ┆ str       ┆ str       │\n│        ┆           ┆ str       ┆ str       ┆   ┆            ┆            ┆           ┆           │\n╞════════╪═══════════╪═══════════╪═══════════╪═══╪════════════╪════════════╪═══════════╪═══════════╡\n│ 124862 ┆ Italy     ┆ This wine ┆ null      ┆ … ┆ Barbera    ┆ null       ┆ Barbera   ┆ Pio       │\n│        ┆           ┆ announces ┆           ┆   ┆ d'Alba     ┆            ┆           ┆ Cesare    │\n│        ┆           ┆ its       ┆           ┆   ┆            ┆            ┆           ┆           │\n│        ┆           ┆ modern i… ┆           ┆   ┆            ┆            ┆           ┆           │\n│ 147058 ┆ France    ┆ A supple, ┆ null      ┆ … ┆ Graves     ┆ null       ┆ Bordeaux- ┆ Château   │\n│        ┆           ┆ easy-drin ┆           ┆   ┆            ┆            ┆ style Red ┆ Belon     │\n│        ┆           ┆ king      ┆           ┆   ┆            ┆            ┆ Blend     ┆           │\n│        ┆           ┆ claret, … ┆           ┆   ┆            ┆            ┆           ┆           │\n│ 53576  ┆ Australia ┆ At $15,   ┆ null      ┆ … ┆ Coonawarra ┆ null       ┆ Pinot     ┆ Penley    │\n│        ┆           ┆ this repr ┆           ┆   ┆            ┆            ┆ Noir      ┆ Estate    │\n│        ┆           ┆ esents a  ┆           ┆   ┆            ┆            ┆           ┆           │\n│        ┆           ┆ decent…   ┆           ┆   ┆            ┆            ┆           ┆           │\n│ 58774  ┆ US        ┆ Oriana    ┆ Oriana    ┆ … ┆ Columbia   ┆ Columbia   ┆ White     ┆ Brian     │\n│        ┆           ┆ blends    ┆ White     ┆   ┆ Valley     ┆ Valley     ┆ Blend     ┆ Carter    │\n│        ┆           ┆ Roussanne ┆           ┆   ┆ (WA)       ┆            ┆           ┆ Cellars   │\n│        ┆           ┆ ,         ┆           ┆   ┆            ┆            ┆           ┆           │\n│        ┆           ┆ Viognie…  ┆           ┆   ┆            ┆            ┆           ┆           │\n│ 125346 ┆ Argentina ┆ An        ┆ null      ┆ … ┆ Mendoza    ┆ null       ┆ Torrontés ┆ Inacayal  │\n│        ┆           ┆ elegant,  ┆           ┆   ┆            ┆            ┆           ┆           │\n│        ┆           ┆ better-th ┆           ┆   ┆            ┆            ┆           ┆           │\n│        ┆           ┆ an-most   ┆           ┆   ┆            ┆            ┆           ┆           │\n│        ┆           ┆ Tor…      ┆           ┆   ┆            ┆            ┆           ┆           │\n└────────┴───────────┴───────────┴───────────┴───┴────────────┴────────────┴───────────┴───────────┘",
      "text/html": "<div><style>\n.dataframe > thead > tr > th,\n.dataframe > tbody > tr > td {\n  text-align: right;\n}\n</style>\n<small>shape: (5, 11)</small><table border=\"1\" class=\"dataframe\"><thead><tr><th></th><th>country</th><th>description</th><th>designation</th><th>points</th><th>price</th><th>province</th><th>region_1</th><th>region_2</th><th>variety</th><th>winery</th></tr><tr><td>i64</td><td>str</td><td>str</td><td>str</td><td>i64</td><td>f64</td><td>str</td><td>str</td><td>str</td><td>str</td><td>str</td></tr></thead><tbody><tr><td>124862</td><td>&quot;Italy&quot;</td><td>&quot;This wine anno…</td><td>null</td><td>90</td><td>21.0</td><td>&quot;Piedmont&quot;</td><td>&quot;Barbera d&#x27;Alba…</td><td>null</td><td>&quot;Barbera&quot;</td><td>&quot;Pio Cesare&quot;</td></tr><tr><td>147058</td><td>&quot;France&quot;</td><td>&quot;A supple, easy…</td><td>null</td><td>86</td><td>15.0</td><td>&quot;Bordeaux&quot;</td><td>&quot;Graves&quot;</td><td>null</td><td>&quot;Bordeaux-style…</td><td>&quot;Château Belon&quot;</td></tr><tr><td>53576</td><td>&quot;Australia&quot;</td><td>&quot;At $15, this r…</td><td>null</td><td>87</td><td>15.0</td><td>&quot;South Australi…</td><td>&quot;Coonawarra&quot;</td><td>null</td><td>&quot;Pinot Noir&quot;</td><td>&quot;Penley Estate&quot;</td></tr><tr><td>58774</td><td>&quot;US&quot;</td><td>&quot;Oriana blends …</td><td>&quot;Oriana White&quot;</td><td>91</td><td>24.0</td><td>&quot;Washington&quot;</td><td>&quot;Columbia Valle…</td><td>&quot;Columbia Valle…</td><td>&quot;White Blend&quot;</td><td>&quot;Brian Carter C…</td></tr><tr><td>125346</td><td>&quot;Argentina&quot;</td><td>&quot;An elegant, be…</td><td>null</td><td>88</td><td>13.0</td><td>&quot;Mendoza Provin…</td><td>&quot;Mendoza&quot;</td><td>null</td><td>&quot;Torrontés&quot;</td><td>&quot;Inacayal&quot;</td></tr></tbody></table></div>"
     },
     "metadata": {},
     "output_type": "display_data"
    }
   ],
   "source": [
    "display(df.select([\n",
    "    pl.col('*').sample(n=5)\n",
    "]))\n",
    "\n",
    "#df.sample(n=5)"
   ]
  },
  {
   "cell_type": "markdown",
   "id": "78fcef14",
   "metadata": {},
   "source": [
    "We could still use the old way, as it is shorter. However, we can easily extend this expression to include more information if we want. It also helps us to solidify to work with expression in our workflow."
   ]
  },
  {
   "cell_type": "markdown",
   "id": "1154321b",
   "metadata": {},
   "source": [
    "> The dataset has a lot to offer. With 11 variables and over 150k rows, there is a lot of data to analyse. We see a couple of variables that are interesting to look into, like price, country, points."
   ]
  },
  {
   "cell_type": "markdown",
   "id": "34e5e70c",
   "metadata": {},
   "source": [
    "To select a column, we use the following expression."
   ]
  },
  {
   "cell_type": "code",
   "execution_count": 12,
   "id": "9eee3af5",
   "metadata": {},
   "outputs": [
    {
     "data": {
      "text/plain": "shape: (10, 1)\n┌───────┐\n│ price │\n│ ---   │\n│ f64   │\n╞═══════╡\n│ 235.0 │\n│ 110.0 │\n│ 90.0  │\n│ 65.0  │\n│ …     │\n│ 65.0  │\n│ 110.0 │\n│ 65.0  │\n│ 60.0  │\n└───────┘",
      "text/html": "<div><style>\n.dataframe > thead > tr > th,\n.dataframe > tbody > tr > td {\n  text-align: right;\n}\n</style>\n<small>shape: (10, 1)</small><table border=\"1\" class=\"dataframe\"><thead><tr><th>price</th></tr><tr><td>f64</td></tr></thead><tbody><tr><td>235.0</td></tr><tr><td>110.0</td></tr><tr><td>90.0</td></tr><tr><td>65.0</td></tr><tr><td>66.0</td></tr><tr><td>73.0</td></tr><tr><td>65.0</td></tr><tr><td>110.0</td></tr><tr><td>65.0</td></tr><tr><td>60.0</td></tr></tbody></table></div>"
     },
     "execution_count": 12,
     "metadata": {},
     "output_type": "execute_result"
    }
   ],
   "source": [
    "df.select(\n",
    "    pl.col(\"price\")\n",
    ").limit(10)\n",
    "\n",
    "# Earlier we used the following:\n",
    "#   df['price']\n",
    "# Select by index is considered an anti-pattern in Polars "
   ]
  },
  {
   "cell_type": "markdown",
   "id": "d095ef35",
   "metadata": {},
   "source": [
    "## Removing nulls\n",
    "\n",
    ">Before we continue we want to have a closer look at if there are any nulls in the dataset."
   ]
  },
  {
   "cell_type": "code",
   "execution_count": 13,
   "id": "a28910f6",
   "metadata": {},
   "outputs": [
    {
     "data": {
      "text/plain": "shape: (1, 11)\n┌─────┬─────────┬─────────────┬─────────────┬───┬──────────┬──────────┬─────────┬────────┐\n│     ┆ country ┆ description ┆ designation ┆ … ┆ region_1 ┆ region_2 ┆ variety ┆ winery │\n│ --- ┆ ---     ┆ ---         ┆ ---         ┆   ┆ ---      ┆ ---      ┆ ---     ┆ ---    │\n│ u32 ┆ u32     ┆ u32         ┆ u32         ┆   ┆ u32      ┆ u32      ┆ u32     ┆ u32    │\n╞═════╪═════════╪═════════════╪═════════════╪═══╪══════════╪══════════╪═════════╪════════╡\n│ 0   ┆ 5       ┆ 0           ┆ 45735       ┆ … ┆ 25060    ┆ 89977    ┆ 0       ┆ 0      │\n└─────┴─────────┴─────────────┴─────────────┴───┴──────────┴──────────┴─────────┴────────┘",
      "text/html": "<div><style>\n.dataframe > thead > tr > th,\n.dataframe > tbody > tr > td {\n  text-align: right;\n}\n</style>\n<small>shape: (1, 11)</small><table border=\"1\" class=\"dataframe\"><thead><tr><th></th><th>country</th><th>description</th><th>designation</th><th>points</th><th>price</th><th>province</th><th>region_1</th><th>region_2</th><th>variety</th><th>winery</th></tr><tr><td>u32</td><td>u32</td><td>u32</td><td>u32</td><td>u32</td><td>u32</td><td>u32</td><td>u32</td><td>u32</td><td>u32</td><td>u32</td></tr></thead><tbody><tr><td>0</td><td>5</td><td>0</td><td>45735</td><td>0</td><td>13695</td><td>5</td><td>25060</td><td>89977</td><td>0</td><td>0</td></tr></tbody></table></div>"
     },
     "execution_count": 13,
     "metadata": {},
     "output_type": "execute_result"
    }
   ],
   "source": [
    "df.select(\n",
    "    pl.col(\"*\").null_count()\n",
    ")\n",
    "\n",
    "# Earlier we used the following: \n",
    "#   df.null_count()   "
   ]
  },
  {
   "cell_type": "markdown",
   "id": "69f2832a",
   "metadata": {},
   "source": [
    "Similar to our original notebook we will fill the nulls with the mean for the following reason.\n",
    "\n",
    "> It seems that around a little less than 10% of the price variable has no value. We can either drop the rows with missing values or fill them. In this article, we will choose to use the mean as filling strategy."
   ]
  },
  {
   "cell_type": "code",
   "execution_count": 15,
   "id": "7ff973c7",
   "metadata": {},
   "outputs": [
    {
     "ename": "AttributeError",
     "evalue": "'DataFrame' object has no attribute 'with_column'",
     "output_type": "error",
     "traceback": [
      "\u001B[0;31m---------------------------------------------------------------------------\u001B[0m",
      "\u001B[0;31mAttributeError\u001B[0m                            Traceback (most recent call last)",
      "Cell \u001B[0;32mIn[15], line 1\u001B[0m\n\u001B[0;32m----> 1\u001B[0m df \u001B[38;5;241m=\u001B[39m \u001B[43mdf\u001B[49m\u001B[38;5;241;43m.\u001B[39;49m\u001B[43mwith_column\u001B[49m(\n\u001B[1;32m      2\u001B[0m         pl\u001B[38;5;241m.\u001B[39mcol(\u001B[38;5;124m\"\u001B[39m\u001B[38;5;124mprice\u001B[39m\u001B[38;5;124m\"\u001B[39m)\u001B[38;5;241m.\u001B[39mfill_none(strategy\u001B[38;5;241m=\u001B[39m\u001B[38;5;124m\"\u001B[39m\u001B[38;5;124mmean\u001B[39m\u001B[38;5;124m\"\u001B[39m)\u001B[38;5;241m.\u001B[39malias(\u001B[38;5;124m'\u001B[39m\u001B[38;5;124mprice\u001B[39m\u001B[38;5;124m'\u001B[39m)\n\u001B[1;32m      3\u001B[0m )\n\u001B[1;32m      5\u001B[0m \u001B[38;5;28mprint\u001B[39m(df\u001B[38;5;241m.\u001B[39mselect(\u001B[38;5;124m'\u001B[39m\u001B[38;5;124mprice\u001B[39m\u001B[38;5;124m'\u001B[39m)\u001B[38;5;241m.\u001B[39mnull_count())\n",
      "\u001B[0;31mAttributeError\u001B[0m: 'DataFrame' object has no attribute 'with_column'"
     ]
    }
   ],
   "source": [
    "#TODO: look at this cell, as it does not run\n",
    "df = df.with_column(\n",
    "        pl.col(\"price\").fill_null(strategy=\"mean\").alias('price')\n",
    ")\n",
    "\n",
    "print(df.select('price').null_count())"
   ]
  },
  {
   "cell_type": "markdown",
   "id": "7c57a423",
   "metadata": {},
   "source": [
    "## Some analyses\n",
    "\n",
    "> The next step is to dive in a little deeper and have a closer look at the dataset with some more complex functions.\n",
    "> The goal that we want to achieve in the following part is to have a closer look at the countries and how they compare in terms of price and points."
   ]
  },
  {
   "cell_type": "code",
   "execution_count": 20,
   "id": "04b1df8f",
   "metadata": {},
   "outputs": [
    {
     "data": {
      "text/plain": "shape: (1, 4)\n┌──────────────┬───────────┬───────────┬────────────┐\n│ median price ┆ min price ┆ max price ┆ mean price │\n│ ---          ┆ ---       ┆ ---       ┆ ---        │\n│ f64          ┆ f64       ┆ f64       ┆ f64        │\n╞══════════════╪═══════════╪═══════════╪════════════╡\n│ 24.0         ┆ 4.0       ┆ 2300.0    ┆ 33.131482  │\n└──────────────┴───────────┴───────────┴────────────┘",
      "text/html": "<div><style>\n.dataframe > thead > tr > th,\n.dataframe > tbody > tr > td {\n  text-align: right;\n}\n</style>\n<small>shape: (1, 4)</small><table border=\"1\" class=\"dataframe\"><thead><tr><th>median price</th><th>min price</th><th>max price</th><th>mean price</th></tr><tr><td>f64</td><td>f64</td><td>f64</td><td>f64</td></tr></thead><tbody><tr><td>24.0</td><td>4.0</td><td>2300.0</td><td>33.131482</td></tr></tbody></table></div>"
     },
     "execution_count": 20,
     "metadata": {},
     "output_type": "execute_result"
    }
   ],
   "source": [
    "df.select([\n",
    "        pl.median(\"price\").alias(\"median price\"),\n",
    "        pl.min(\"price\").alias(\"min price\"),\n",
    "        pl.max(\"price\").alias(\"max price\"),\n",
    "        pl.mean(\"price\").alias(\"mean price\")\n",
    "    ]\n",
    ")\n",
    "\n",
    "# Analyses of wine prices\n",
    "#print(f'Median price: {df[\"price\"].median()}')\n",
    "# print(f'Average price: {df[\"price\"].mean()}')\n",
    "# print(f'Maximum price: {df[\"price\"].max()}')\n",
    "# print(f'Minimum price: {df[\"price\"].min()}')"
   ]
  },
  {
   "cell_type": "code",
   "execution_count": 21,
   "id": "ad5b7221",
   "metadata": {},
   "outputs": [
    {
     "data": {
      "text/plain": "shape: (1, 4)\n┌───────────────┬────────────┬────────────┬─────────────┐\n│ median points ┆ min points ┆ max points ┆ mean points │\n│ ---           ┆ ---        ┆ ---        ┆ ---         │\n│ f64           ┆ i64        ┆ i64        ┆ f64         │\n╞═══════════════╪════════════╪════════════╪═════════════╡\n│ 88.0          ┆ 80         ┆ 100        ┆ 87.888418   │\n└───────────────┴────────────┴────────────┴─────────────┘",
      "text/html": "<div><style>\n.dataframe > thead > tr > th,\n.dataframe > tbody > tr > td {\n  text-align: right;\n}\n</style>\n<small>shape: (1, 4)</small><table border=\"1\" class=\"dataframe\"><thead><tr><th>median points</th><th>min points</th><th>max points</th><th>mean points</th></tr><tr><td>f64</td><td>i64</td><td>i64</td><td>f64</td></tr></thead><tbody><tr><td>88.0</td><td>80</td><td>100</td><td>87.888418</td></tr></tbody></table></div>"
     },
     "execution_count": 21,
     "metadata": {},
     "output_type": "execute_result"
    }
   ],
   "source": [
    "df.select([\n",
    "        pl.median(\"points\").alias(\"median points\"),\n",
    "        pl.min(\"points\").alias(\"min points\"),\n",
    "        pl.max(\"points\").alias(\"max points\"),\n",
    "        pl.mean(\"points\").alias(\"mean points\")\n",
    "    ]\n",
    ")\n",
    "\n",
    "# Analyses of wine points\n",
    "# print(f'Median points: {data[\"points\"].median()}')\n",
    "# print(f'Average points: {data[\"points\"].mean()}')\n",
    "# print(f'Maximum points: {data[\"points\"].max()}')\n",
    "# print(f'Minimum points: {data[\"points\"].min()}')"
   ]
  },
  {
   "cell_type": "markdown",
   "id": "0de83495",
   "metadata": {},
   "source": [
    "Or we can just use the `describe()` function for quick statistics about our dataframe."
   ]
  },
  {
   "cell_type": "code",
   "execution_count": 22,
   "id": "59d31ce8",
   "metadata": {},
   "outputs": [
    {
     "data": {
      "text/plain": "shape: (9, 12)\n┌────────────┬───────────┬─────────┬───────────┬───┬───────────┬───────────┬───────────┬───────────┐\n│ describe   ┆           ┆ country ┆ descripti ┆ … ┆ region_1  ┆ region_2  ┆ variety   ┆ winery    │\n│ ---        ┆ ---       ┆ ---     ┆ on        ┆   ┆ ---       ┆ ---       ┆ ---       ┆ ---       │\n│ str        ┆ f64       ┆ str     ┆ ---       ┆   ┆ str       ┆ str       ┆ str       ┆ str       │\n│            ┆           ┆         ┆ str       ┆   ┆           ┆           ┆           ┆           │\n╞════════════╪═══════════╪═════════╪═══════════╪═══╪═══════════╪═══════════╪═══════════╪═══════════╡\n│ count      ┆ 150930.0  ┆ 150930  ┆ 150930    ┆ … ┆ 150930    ┆ 150930    ┆ 150930    ┆ 150930    │\n│ null_count ┆ 0.0       ┆ 5       ┆ 0         ┆ … ┆ 25060     ┆ 89977     ┆ 0         ┆ 0         │\n│ mean       ┆ 75464.5   ┆ null    ┆ null      ┆ … ┆ null      ┆ null      ┆ null      ┆ null      │\n│ std        ┆ 43569.882 ┆ null    ┆ null      ┆ … ┆ null      ┆ null      ┆ null      ┆ null      │\n│            ┆ 402       ┆         ┆           ┆   ┆           ┆           ┆           ┆           │\n│ min        ┆ 0.0       ┆ Albania ┆ \"Chremisa ┆ … ┆ Abruzzo   ┆ Californi ┆ Agiorgiti ┆ '37       │\n│            ┆           ┆         ┆ ,\" the    ┆   ┆           ┆ a Other   ┆ ko        ┆ Cellars   │\n│            ┆           ┆         ┆ ancient   ┆   ┆           ┆           ┆           ┆           │\n│            ┆           ┆         ┆ name of … ┆   ┆           ┆           ┆           ┆           │\n│ max        ┆ 150929.0  ┆ Uruguay ┆ “Zéro     ┆ … ┆ Zonda     ┆ Willamett ┆ Žilavka   ┆ Štoka     │\n│            ┆           ┆         ┆ Dosage”   ┆   ┆ Valley    ┆ e Valley  ┆           ┆           │\n│            ┆           ┆         ┆ means     ┆   ┆           ┆           ┆           ┆           │\n│            ┆           ┆         ┆ just      ┆   ┆           ┆           ┆           ┆           │\n│            ┆           ┆         ┆ that; t…  ┆   ┆           ┆           ┆           ┆           │\n│ median     ┆ 75464.5   ┆ null    ┆ null      ┆ … ┆ null      ┆ null      ┆ null      ┆ null      │\n│ 25%        ┆ 37732.0   ┆ null    ┆ null      ┆ … ┆ null      ┆ null      ┆ null      ┆ null      │\n│ 75%        ┆ 113197.0  ┆ null    ┆ null      ┆ … ┆ null      ┆ null      ┆ null      ┆ null      │\n└────────────┴───────────┴─────────┴───────────┴───┴───────────┴───────────┴───────────┴───────────┘",
      "text/html": "<div><style>\n.dataframe > thead > tr > th,\n.dataframe > tbody > tr > td {\n  text-align: right;\n}\n</style>\n<small>shape: (9, 12)</small><table border=\"1\" class=\"dataframe\"><thead><tr><th>describe</th><th></th><th>country</th><th>description</th><th>designation</th><th>points</th><th>price</th><th>province</th><th>region_1</th><th>region_2</th><th>variety</th><th>winery</th></tr><tr><td>str</td><td>f64</td><td>str</td><td>str</td><td>str</td><td>f64</td><td>f64</td><td>str</td><td>str</td><td>str</td><td>str</td><td>str</td></tr></thead><tbody><tr><td>&quot;count&quot;</td><td>150930.0</td><td>&quot;150930&quot;</td><td>&quot;150930&quot;</td><td>&quot;150930&quot;</td><td>150930.0</td><td>150930.0</td><td>&quot;150930&quot;</td><td>&quot;150930&quot;</td><td>&quot;150930&quot;</td><td>&quot;150930&quot;</td><td>&quot;150930&quot;</td></tr><tr><td>&quot;null_count&quot;</td><td>0.0</td><td>&quot;5&quot;</td><td>&quot;0&quot;</td><td>&quot;45735&quot;</td><td>0.0</td><td>13695.0</td><td>&quot;5&quot;</td><td>&quot;25060&quot;</td><td>&quot;89977&quot;</td><td>&quot;0&quot;</td><td>&quot;0&quot;</td></tr><tr><td>&quot;mean&quot;</td><td>75464.5</td><td>null</td><td>null</td><td>null</td><td>87.888418</td><td>33.131482</td><td>null</td><td>null</td><td>null</td><td>null</td><td>null</td></tr><tr><td>&quot;std&quot;</td><td>43569.882402</td><td>null</td><td>null</td><td>null</td><td>3.222392</td><td>36.322536</td><td>null</td><td>null</td><td>null</td><td>null</td><td>null</td></tr><tr><td>&quot;min&quot;</td><td>0.0</td><td>&quot;Albania&quot;</td><td>&quot;&quot;Chremisa,&quot; th…</td><td>&quot;&quot;M&quot;&quot;</td><td>80.0</td><td>4.0</td><td>&quot;Achaia&quot;</td><td>&quot;Abruzzo&quot;</td><td>&quot;California Oth…</td><td>&quot;Agiorgitiko&quot;</td><td>&quot;&#x27;37 Cellars&quot;</td></tr><tr><td>&quot;max&quot;</td><td>150929.0</td><td>&quot;Uruguay&quot;</td><td>&quot;“Zéro Dosage” …</td><td>&quot;‘Rough Justice…</td><td>100.0</td><td>2300.0</td><td>&quot;Župa&quot;</td><td>&quot;Zonda Valley&quot;</td><td>&quot;Willamette Val…</td><td>&quot;Žilavka&quot;</td><td>&quot;Štoka&quot;</td></tr><tr><td>&quot;median&quot;</td><td>75464.5</td><td>null</td><td>null</td><td>null</td><td>88.0</td><td>24.0</td><td>null</td><td>null</td><td>null</td><td>null</td><td>null</td></tr><tr><td>&quot;25%&quot;</td><td>37732.0</td><td>null</td><td>null</td><td>null</td><td>86.0</td><td>16.0</td><td>null</td><td>null</td><td>null</td><td>null</td><td>null</td></tr><tr><td>&quot;75%&quot;</td><td>113197.0</td><td>null</td><td>null</td><td>null</td><td>90.0</td><td>40.0</td><td>null</td><td>null</td><td>null</td><td>null</td><td>null</td></tr></tbody></table></div>"
     },
     "execution_count": 22,
     "metadata": {},
     "output_type": "execute_result"
    }
   ],
   "source": [
    "df.describe()"
   ]
  },
  {
   "cell_type": "markdown",
   "id": "b9d533ce",
   "metadata": {},
   "source": [
    "> The minimum number of points shows that there is no such thing as bad wine."
   ]
  },
  {
   "cell_type": "markdown",
   "id": "e81c9a3e",
   "metadata": {},
   "source": [
    "## Filtering"
   ]
  },
  {
   "cell_type": "code",
   "execution_count": 23,
   "id": "211f8dba",
   "metadata": {},
   "outputs": [
    {
     "data": {
      "text/plain": "shape: (49, 1)\n┌──────────────┐\n│ country      │\n│ ---          │\n│ str          │\n╞══════════════╡\n│ null         │\n│ Moldova      │\n│ Argentina    │\n│ Slovakia     │\n│ …            │\n│ South Africa │\n│ Tunisia      │\n│ Georgia      │\n│ Mexico       │\n└──────────────┘",
      "text/html": "<div><style>\n.dataframe > thead > tr > th,\n.dataframe > tbody > tr > td {\n  text-align: right;\n}\n</style>\n<small>shape: (49, 1)</small><table border=\"1\" class=\"dataframe\"><thead><tr><th>country</th></tr><tr><td>str</td></tr></thead><tbody><tr><td>null</td></tr><tr><td>&quot;Moldova&quot;</td></tr><tr><td>&quot;Argentina&quot;</td></tr><tr><td>&quot;Slovakia&quot;</td></tr><tr><td>&quot;Bosnia and Her…</td></tr><tr><td>&quot;US-France&quot;</td></tr><tr><td>&quot;Portugal&quot;</td></tr><tr><td>&quot;Luxembourg&quot;</td></tr><tr><td>&quot;Brazil&quot;</td></tr><tr><td>&quot;Czech Republic…</td></tr><tr><td>&quot;England&quot;</td></tr><tr><td>&quot;Croatia&quot;</td></tr><tr><td>&hellip;</td></tr><tr><td>&quot;Uruguay&quot;</td></tr><tr><td>&quot;Japan&quot;</td></tr><tr><td>&quot;Lithuania&quot;</td></tr><tr><td>&quot;US&quot;</td></tr><tr><td>&quot;New Zealand&quot;</td></tr><tr><td>&quot;Austria&quot;</td></tr><tr><td>&quot;Serbia&quot;</td></tr><tr><td>&quot;Canada&quot;</td></tr><tr><td>&quot;South Africa&quot;</td></tr><tr><td>&quot;Tunisia&quot;</td></tr><tr><td>&quot;Georgia&quot;</td></tr><tr><td>&quot;Mexico&quot;</td></tr></tbody></table></div>"
     },
     "execution_count": 23,
     "metadata": {},
     "output_type": "execute_result"
    }
   ],
   "source": [
    "df.select([\n",
    "    pl.col(\"country\").unique()\n",
    "])\n",
    "\n",
    "# data['country'].unique().to_list()"
   ]
  },
  {
   "cell_type": "markdown",
   "id": "9a703506",
   "metadata": {},
   "source": [
    "From our earlier notebook\n",
    "\n",
    "> There are two strange values in our dataset: an undefined country (\"\") and a country called 'US-France'."
   ]
  },
  {
   "cell_type": "code",
   "execution_count": 24,
   "id": "2eacca22",
   "metadata": {},
   "outputs": [
    {
     "data": {
      "text/plain": "shape: (6, 11)\n┌────────┬───────────┬───────────┬──────────────┬───┬──────────┬──────────┬────────────┬───────────┐\n│        ┆ country   ┆ descripti ┆ designation  ┆ … ┆ region_1 ┆ region_2 ┆ variety    ┆ winery    │\n│ ---    ┆ ---       ┆ on        ┆ ---          ┆   ┆ ---      ┆ ---      ┆ ---        ┆ ---       │\n│ i64    ┆ str       ┆ ---       ┆ str          ┆   ┆ str      ┆ str      ┆ str        ┆ str       │\n│        ┆           ┆ str       ┆              ┆   ┆          ┆          ┆            ┆           │\n╞════════╪═══════════╪═══════════╪══════════════╪═══╪══════════╪══════════╪════════════╪═══════════╡\n│ 1133   ┆ null      ┆ Delicate  ┆ Askitikos    ┆ … ┆ null     ┆ null     ┆ Assyrtiko  ┆ Tsililis  │\n│        ┆           ┆ white     ┆              ┆   ┆          ┆          ┆            ┆           │\n│        ┆           ┆ flowers   ┆              ┆   ┆          ┆          ┆            ┆           │\n│        ┆           ┆ and a     ┆              ┆   ┆          ┆          ┆            ┆           │\n│        ┆           ┆ spi…      ┆              ┆   ┆          ┆          ┆            ┆           │\n│ 1440   ┆ null      ┆ A blend   ┆ Shah         ┆ … ┆ null     ┆ null     ┆ Red Blend  ┆ Büyülübağ │\n│        ┆           ┆ of 60%    ┆              ┆   ┆          ┆          ┆            ┆           │\n│        ┆           ┆ Syrah,    ┆              ┆   ┆          ┆          ┆            ┆           │\n│        ┆           ┆ 30%       ┆              ┆   ┆          ┆          ┆            ┆           │\n│        ┆           ┆ Cabern…   ┆              ┆   ┆          ┆          ┆            ┆           │\n│ 68226  ┆ null      ┆ From      ┆ Piedra Feliz ┆ … ┆ null     ┆ null     ┆ Pinot Noir ┆ Chilcas   │\n│        ┆           ┆ first     ┆              ┆   ┆          ┆          ┆            ┆           │\n│        ┆           ┆ sniff to  ┆              ┆   ┆          ┆          ┆            ┆           │\n│        ┆           ┆ last, the ┆              ┆   ┆          ┆          ┆            ┆           │\n│        ┆           ┆ no…       ┆              ┆   ┆          ┆          ┆            ┆           │\n│ 113016 ┆ null      ┆ From      ┆ Piedra Feliz ┆ … ┆ null     ┆ null     ┆ Pinot Noir ┆ Chilcas   │\n│        ┆           ┆ first     ┆              ┆   ┆          ┆          ┆            ┆           │\n│        ┆           ┆ sniff to  ┆              ┆   ┆          ┆          ┆            ┆           │\n│        ┆           ┆ last, the ┆              ┆   ┆          ┆          ┆            ┆           │\n│        ┆           ┆ no…       ┆              ┆   ┆          ┆          ┆            ┆           │\n│ 135696 ┆ null      ┆ From      ┆ Piedra Feliz ┆ … ┆ null     ┆ null     ┆ Pinot Noir ┆ Chilcas   │\n│        ┆           ┆ first     ┆              ┆   ┆          ┆          ┆            ┆           │\n│        ┆           ┆ sniff to  ┆              ┆   ┆          ┆          ┆            ┆           │\n│        ┆           ┆ last, the ┆              ┆   ┆          ┆          ┆            ┆           │\n│        ┆           ┆ no…       ┆              ┆   ┆          ┆          ┆            ┆           │\n│ 144054 ┆ US-France ┆ Defies    ┆ null         ┆ … ┆ null     ┆ null     ┆ Viognier   ┆ Deux C    │\n│        ┆           ┆ categoriz ┆              ┆   ┆          ┆          ┆            ┆           │\n│        ┆           ┆ ation, in ┆              ┆   ┆          ┆          ┆            ┆           │\n│        ┆           ┆ more w…   ┆              ┆   ┆          ┆          ┆            ┆           │\n└────────┴───────────┴───────────┴──────────────┴───┴──────────┴──────────┴────────────┴───────────┘",
      "text/html": "<div><style>\n.dataframe > thead > tr > th,\n.dataframe > tbody > tr > td {\n  text-align: right;\n}\n</style>\n<small>shape: (6, 11)</small><table border=\"1\" class=\"dataframe\"><thead><tr><th></th><th>country</th><th>description</th><th>designation</th><th>points</th><th>price</th><th>province</th><th>region_1</th><th>region_2</th><th>variety</th><th>winery</th></tr><tr><td>i64</td><td>str</td><td>str</td><td>str</td><td>i64</td><td>f64</td><td>str</td><td>str</td><td>str</td><td>str</td><td>str</td></tr></thead><tbody><tr><td>1133</td><td>null</td><td>&quot;Delicate white…</td><td>&quot;Askitikos&quot;</td><td>90</td><td>17.0</td><td>null</td><td>null</td><td>null</td><td>&quot;Assyrtiko&quot;</td><td>&quot;Tsililis&quot;</td></tr><tr><td>1440</td><td>null</td><td>&quot;A blend of 60%…</td><td>&quot;Shah&quot;</td><td>90</td><td>30.0</td><td>null</td><td>null</td><td>null</td><td>&quot;Red Blend&quot;</td><td>&quot;Büyülübağ&quot;</td></tr><tr><td>68226</td><td>null</td><td>&quot;From first sni…</td><td>&quot;Piedra Feliz&quot;</td><td>81</td><td>15.0</td><td>null</td><td>null</td><td>null</td><td>&quot;Pinot Noir&quot;</td><td>&quot;Chilcas&quot;</td></tr><tr><td>113016</td><td>null</td><td>&quot;From first sni…</td><td>&quot;Piedra Feliz&quot;</td><td>81</td><td>15.0</td><td>null</td><td>null</td><td>null</td><td>&quot;Pinot Noir&quot;</td><td>&quot;Chilcas&quot;</td></tr><tr><td>135696</td><td>null</td><td>&quot;From first sni…</td><td>&quot;Piedra Feliz&quot;</td><td>81</td><td>15.0</td><td>null</td><td>null</td><td>null</td><td>&quot;Pinot Noir&quot;</td><td>&quot;Chilcas&quot;</td></tr><tr><td>144054</td><td>&quot;US-France&quot;</td><td>&quot;Defies categor…</td><td>null</td><td>88</td><td>50.0</td><td>&quot;Santa Barbara …</td><td>null</td><td>null</td><td>&quot;Viognier&quot;</td><td>&quot;Deux C&quot;</td></tr></tbody></table></div>"
     },
     "execution_count": 24,
     "metadata": {},
     "output_type": "execute_result"
    }
   ],
   "source": [
    "df.filter(\n",
    "    (pl.col('country') == 'US-France') |\n",
    "    (pl.col('country').is_null())\n",
    ")"
   ]
  },
  {
   "cell_type": "markdown",
   "id": "03aff472",
   "metadata": {},
   "source": [
    "> There are only 6 of them, so it is safe to drop them."
   ]
  },
  {
   "cell_type": "code",
   "execution_count": 25,
   "id": "1629322a",
   "metadata": {},
   "outputs": [],
   "source": [
    "df = df.filter(\n",
    "    (pl.col('country').is_not_null()) &\n",
    "    (pl.col('country') != 'US-France')\n",
    ")\n",
    "\n",
    "# data = data[(data['country'] != '') & (data['country'] != 'US-France')]"
   ]
  },
  {
   "cell_type": "markdown",
   "id": "78a81d5d",
   "metadata": {},
   "source": [
    "> Time to look into the countries that produces the best wine according to the points and has the highest price for a bottle."
   ]
  },
  {
   "cell_type": "code",
   "execution_count": 26,
   "id": "adb8c1a6",
   "metadata": {},
   "outputs": [
    {
     "ename": "TypeError",
     "evalue": "DataFrame.sort() got an unexpected keyword argument 'reverse'",
     "output_type": "error",
     "traceback": [
      "\u001B[0;31m---------------------------------------------------------------------------\u001B[0m",
      "\u001B[0;31mTypeError\u001B[0m                                 Traceback (most recent call last)",
      "Cell \u001B[0;32mIn[26], line 1\u001B[0m\n\u001B[0;32m----> 1\u001B[0m \u001B[43mdf\u001B[49m\u001B[38;5;241;43m.\u001B[39;49m\u001B[43mgroupby\u001B[49m\u001B[43m(\u001B[49m\u001B[38;5;124;43m'\u001B[39;49m\u001B[38;5;124;43mcountry\u001B[39;49m\u001B[38;5;124;43m'\u001B[39;49m\u001B[43m)\u001B[49m\u001B[38;5;241;43m.\u001B[39;49m\u001B[43magg\u001B[49m\u001B[43m(\u001B[49m\n\u001B[1;32m      2\u001B[0m \u001B[43m    \u001B[49m\u001B[43mpl\u001B[49m\u001B[38;5;241;43m.\u001B[39;49m\u001B[43mcol\u001B[49m\u001B[43m(\u001B[49m\u001B[38;5;124;43m'\u001B[39;49m\u001B[38;5;124;43mpoints\u001B[39;49m\u001B[38;5;124;43m'\u001B[39;49m\u001B[43m)\u001B[49m\u001B[38;5;241;43m.\u001B[39;49m\u001B[43mmean\u001B[49m\u001B[43m(\u001B[49m\u001B[43m)\u001B[49m\u001B[38;5;241;43m.\u001B[39;49m\u001B[43malias\u001B[49m\u001B[43m(\u001B[49m\u001B[38;5;124;43m'\u001B[39;49m\u001B[38;5;124;43mpoints_mean\u001B[39;49m\u001B[38;5;124;43m'\u001B[39;49m\u001B[43m)\u001B[49m\n\u001B[1;32m      3\u001B[0m \u001B[43m)\u001B[49m\u001B[38;5;241;43m.\u001B[39;49m\u001B[43msort\u001B[49m\u001B[43m(\u001B[49m\u001B[43mby\u001B[49m\u001B[38;5;241;43m=\u001B[39;49m\u001B[38;5;124;43m'\u001B[39;49m\u001B[38;5;124;43mpoints_mean\u001B[39;49m\u001B[38;5;124;43m'\u001B[39;49m\u001B[43m,\u001B[49m\u001B[43m \u001B[49m\u001B[43mreverse\u001B[49m\u001B[38;5;241;43m=\u001B[39;49m\u001B[38;5;28;43;01mTrue\u001B[39;49;00m\u001B[43m)\u001B[49m\n\u001B[1;32m      5\u001B[0m \u001B[38;5;66;03m# We group by country, select the `points` variable \u001B[39;00m\n\u001B[1;32m      6\u001B[0m \u001B[38;5;66;03m# and call the mean to see the average number of points. \u001B[39;00m\n\u001B[1;32m      7\u001B[0m \u001B[38;5;66;03m# After that we sort the list by 'average points'. \u001B[39;00m\n\u001B[0;32m   (...)\u001B[0m\n\u001B[1;32m     10\u001B[0m \u001B[38;5;66;03m#       .select('points').mean()\u001B[39;00m\n\u001B[1;32m     11\u001B[0m \u001B[38;5;66;03m#       .sort(by_column='points_mean', reverse=True)\u001B[39;00m\n",
      "\u001B[0;31mTypeError\u001B[0m: DataFrame.sort() got an unexpected keyword argument 'reverse'"
     ]
    }
   ],
   "source": [
    "#TODO: look at this cell, as it is not running. This error shows up a lot in this notebook, and makes it not possible to run the rest of the notebook.\n",
    "df.groupby('country').agg(\n",
    "    pl.col('points').mean().alias('points_mean')\n",
    ").sort(by='points_mean', reverse=True)\n",
    "\n",
    "# We group by country, select the `points` variable \n",
    "# and call the mean to see the average number of points. \n",
    "# After that we sort the list by 'average points'. \n",
    "\n",
    "# data.groupby('country')\n",
    "#       .select('points').mean()\n",
    "#       .sort(by_column='points_mean', reverse=True)"
   ]
  },
  {
   "cell_type": "markdown",
   "id": "ef4b1181",
   "metadata": {},
   "source": [
    "> England is leading the list for the best wines. Wonder how they think about that on the other side of the Canal in France."
   ]
  },
  {
   "cell_type": "code",
   "execution_count": 27,
   "id": "e26f3c4f",
   "metadata": {},
   "outputs": [
    {
     "ename": "TypeError",
     "evalue": "DataFrame.sort() got an unexpected keyword argument 'reverse'",
     "output_type": "error",
     "traceback": [
      "\u001B[0;31m---------------------------------------------------------------------------\u001B[0m",
      "\u001B[0;31mTypeError\u001B[0m                                 Traceback (most recent call last)",
      "Cell \u001B[0;32mIn[27], line 1\u001B[0m\n\u001B[0;32m----> 1\u001B[0m \u001B[43mdf\u001B[49m\u001B[38;5;241;43m.\u001B[39;49m\u001B[43mgroupby\u001B[49m\u001B[43m(\u001B[49m\u001B[38;5;124;43m'\u001B[39;49m\u001B[38;5;124;43mcountry\u001B[39;49m\u001B[38;5;124;43m'\u001B[39;49m\u001B[43m)\u001B[49m\u001B[38;5;241;43m.\u001B[39;49m\u001B[43magg\u001B[49m\u001B[43m(\u001B[49m\n\u001B[1;32m      2\u001B[0m \u001B[43m    \u001B[49m\u001B[43mpl\u001B[49m\u001B[38;5;241;43m.\u001B[39;49m\u001B[43mcol\u001B[49m\u001B[43m(\u001B[49m\u001B[38;5;124;43m'\u001B[39;49m\u001B[38;5;124;43mprice\u001B[39;49m\u001B[38;5;124;43m'\u001B[39;49m\u001B[43m)\u001B[49m\u001B[38;5;241;43m.\u001B[39;49m\u001B[43mmax\u001B[49m\u001B[43m(\u001B[49m\u001B[43m)\u001B[49m\u001B[38;5;241;43m.\u001B[39;49m\u001B[43malias\u001B[49m\u001B[43m(\u001B[49m\u001B[38;5;124;43m'\u001B[39;49m\u001B[38;5;124;43mprice_max\u001B[39;49m\u001B[38;5;124;43m'\u001B[39;49m\u001B[43m)\u001B[49m\n\u001B[1;32m      3\u001B[0m \u001B[43m)\u001B[49m\u001B[38;5;241;43m.\u001B[39;49m\u001B[43msort\u001B[49m\u001B[43m(\u001B[49m\u001B[43mby\u001B[49m\u001B[38;5;241;43m=\u001B[39;49m\u001B[38;5;124;43m'\u001B[39;49m\u001B[38;5;124;43mprice_max\u001B[39;49m\u001B[38;5;124;43m'\u001B[39;49m\u001B[43m,\u001B[49m\u001B[43m \u001B[49m\u001B[43mreverse\u001B[49m\u001B[38;5;241;43m=\u001B[39;49m\u001B[38;5;28;43;01mTrue\u001B[39;49;00m\u001B[43m)\u001B[49m\n\u001B[1;32m      5\u001B[0m \u001B[38;5;66;03m# data.groupby('country')\u001B[39;00m\n\u001B[1;32m      6\u001B[0m \u001B[38;5;66;03m#   .select('price').max()\u001B[39;00m\n\u001B[1;32m      7\u001B[0m \u001B[38;5;66;03m#   .sort(by_column='price_max', reverse=True)\u001B[39;00m\n",
      "\u001B[0;31mTypeError\u001B[0m: DataFrame.sort() got an unexpected keyword argument 'reverse'"
     ]
    }
   ],
   "source": [
    "df.groupby('country').agg(\n",
    "    pl.col('price').max().alias('price_max')\n",
    ").sort(by='price_max', reverse=True)\n",
    "\n",
    "# data.groupby('country')\n",
    "#   .select('price').max()\n",
    "#   .sort(by_column='price_max', reverse=True)"
   ]
  },
  {
   "cell_type": "markdown",
   "id": "465d5a78",
   "metadata": {},
   "source": [
    "### Plotting with Polars"
   ]
  },
  {
   "cell_type": "markdown",
   "id": "106a17ce",
   "metadata": {},
   "source": [
    "> To get a better insight into the differences it always helps to have some nice plots. Where Pandas has a plotting functionality build in, we have to rely on our Matplotlib skills for Polars. We focus on the top 15 countries."
   ]
  },
  {
   "cell_type": "code",
   "execution_count": 28,
   "id": "30af3732",
   "metadata": {},
   "outputs": [
    {
     "ename": "TypeError",
     "evalue": "DataFrame.sort() got an unexpected keyword argument 'reverse'",
     "output_type": "error",
     "traceback": [
      "\u001B[0;31m---------------------------------------------------------------------------\u001B[0m",
      "\u001B[0;31mTypeError\u001B[0m                                 Traceback (most recent call last)",
      "Cell \u001B[0;32mIn[28], line 1\u001B[0m\n\u001B[0;32m----> 1\u001B[0m top_15_countries \u001B[38;5;241m=\u001B[39m \u001B[43mdf\u001B[49m\u001B[38;5;241;43m.\u001B[39;49m\u001B[43mgroupby\u001B[49m\u001B[43m(\u001B[49m\u001B[38;5;124;43m'\u001B[39;49m\u001B[38;5;124;43mcountry\u001B[39;49m\u001B[38;5;124;43m'\u001B[39;49m\u001B[43m)\u001B[49m\u001B[38;5;241;43m.\u001B[39;49m\u001B[43magg\u001B[49m\u001B[43m(\u001B[49m\n\u001B[1;32m      2\u001B[0m \u001B[43m    \u001B[49m\u001B[43mpl\u001B[49m\u001B[38;5;241;43m.\u001B[39;49m\u001B[43mcol\u001B[49m\u001B[43m(\u001B[49m\u001B[38;5;124;43m'\u001B[39;49m\u001B[38;5;124;43mpoints\u001B[39;49m\u001B[38;5;124;43m'\u001B[39;49m\u001B[43m)\u001B[49m\u001B[38;5;241;43m.\u001B[39;49m\u001B[43mmean\u001B[49m\u001B[43m(\u001B[49m\u001B[43m)\u001B[49m\u001B[38;5;241;43m.\u001B[39;49m\u001B[43malias\u001B[49m\u001B[43m(\u001B[49m\u001B[38;5;124;43m'\u001B[39;49m\u001B[38;5;124;43mpoints_mean\u001B[39;49m\u001B[38;5;124;43m'\u001B[39;49m\u001B[43m)\u001B[49m\n\u001B[1;32m      3\u001B[0m \u001B[43m)\u001B[49m\u001B[38;5;241;43m.\u001B[39;49m\u001B[43msort\u001B[49m\u001B[43m(\u001B[49m\u001B[43mby\u001B[49m\u001B[38;5;241;43m=\u001B[39;49m\u001B[38;5;124;43m'\u001B[39;49m\u001B[38;5;124;43mpoints_mean\u001B[39;49m\u001B[38;5;124;43m'\u001B[39;49m\u001B[43m,\u001B[49m\u001B[43m \u001B[49m\u001B[43mreverse\u001B[49m\u001B[38;5;241;43m=\u001B[39;49m\u001B[38;5;28;43;01mTrue\u001B[39;49;00m\u001B[43m)\u001B[49m\u001B[38;5;241m.\u001B[39mlimit(\u001B[38;5;241m15\u001B[39m)\n\u001B[1;32m      5\u001B[0m top_15_countries\n\u001B[1;32m      7\u001B[0m \u001B[38;5;66;03m# Get a list of the top 15 countries by taking the first 15 rows \u001B[39;00m\n\u001B[1;32m      8\u001B[0m \u001B[38;5;66;03m# of the groupby that we did earlier\u001B[39;00m\n\u001B[1;32m      9\u001B[0m \u001B[38;5;66;03m# \u001B[39;00m\n\u001B[1;32m     10\u001B[0m \u001B[38;5;66;03m# top_15_countries = data.groupby('country')\u001B[39;00m\n\u001B[1;32m     11\u001B[0m \u001B[38;5;66;03m#       .select('points').mean()\u001B[39;00m\n\u001B[1;32m     12\u001B[0m \u001B[38;5;66;03m#       .sort(by_column='points_mean', reverse=True)[:15][0]\u001B[39;00m\n",
      "\u001B[0;31mTypeError\u001B[0m: DataFrame.sort() got an unexpected keyword argument 'reverse'"
     ]
    }
   ],
   "source": [
    "top_15_countries = df.groupby('country').agg(\n",
    "    pl.col('points').mean().alias('points_mean')\n",
    ").sort(by='points_mean', reverse=True).limit(15)\n",
    "\n",
    "top_15_countries\n",
    "\n",
    "# Get a list of the top 15 countries by taking the first 15 rows \n",
    "# of the groupby that we did earlier\n",
    "# \n",
    "# top_15_countries = data.groupby('country')\n",
    "#       .select('points').mean()\n",
    "#       .sort(by_column='points_mean', reverse=True)[:15][0]"
   ]
  },
  {
   "cell_type": "code",
   "execution_count": null,
   "id": "badeebe4",
   "metadata": {},
   "outputs": [],
   "source": [
    "df_top15 = top_15_countries.join(df, on='country', how='left')\n",
    "\n",
    "df_top15\n",
    "\n",
    "# df_top15 = pl.DataFrame({'country': top_15_countries}).join(data, on='country', how='left')"
   ]
  },
  {
   "cell_type": "code",
   "execution_count": null,
   "id": "18463db2",
   "metadata": {},
   "outputs": [],
   "source": [
    "fig, ax = plt.subplots(figsize=(15, 5))\n",
    "\n",
    "for i, country_df in enumerate(df_top15.partition_by(groups=\"country\")):\n",
    "    country_name = country_df.select(\"country\")[0, 0]\n",
    "    ax.boxplot(country_df.select('points'), labels=[country_name], positions=[i])\n",
    "\n",
    "plt.xticks(rotation=90)\n",
    "plt.xlabel('Countries')\n",
    "plt.ylabel('Average points')\n",
    "plt.show()\n",
    "\n",
    "\n",
    "# fig, ax = plt.subplots(figsize=(15, 5))\n",
    "\n",
    "# for i, x in enumerate(df_top15['country'].unique()):\n",
    "#     ax.boxplot(df_top15[df_top15['country'] == x]['points'], labels=[str(x)], positions=[i])"
   ]
  },
  {
   "cell_type": "markdown",
   "id": "40d50469",
   "metadata": {},
   "source": [
    "## Time to go Lazy"
   ]
  },
  {
   "cell_type": "markdown",
   "id": "98ec70a1",
   "metadata": {},
   "source": [
    "> The lazy API offers a way to optimise your queries, similar to Spark. The major benefit over spark is that we don't have to set up our environment and can therefore continue working from our notebook.\n",
    "\n",
    "> More information can be found in the [Polars-book](https://ritchie46.github.io/polars-book/lazy_polars/intro.html)"
   ]
  },
  {
   "cell_type": "code",
   "execution_count": 29,
   "id": "00cdccfe",
   "metadata": {},
   "outputs": [
    {
     "data": {
      "text/plain": "<polars.LazyFrame object at 0x11F146F50>",
      "text/html": "<i>naive plan: (run <b>LazyFrame.explain(optimized=True)</b> to see the optimized plan)</i>\n    <p></p>\n    <div><p></p>  CSV SCAN winemag-data_first150k.csv<p></p>  PROJECT */11 COLUMNS</div>"
     },
     "execution_count": 29,
     "metadata": {},
     "output_type": "execute_result"
    }
   ],
   "source": [
    "lazy_df = pl.scan_csv('winemag-data_first150k.csv')\n",
    "\n",
    "lazy_df\n",
    "\n",
    "# lazy_df = pl.scan_csv('winemag-data_first150k', ignore_errors=True)\n",
    "\n",
    "# if you install Graphviz you will see the Query Plan "
   ]
  },
  {
   "cell_type": "markdown",
   "id": "7cfc1bcf",
   "metadata": {},
   "source": [
    "> Printing the type returns 'polars.lazy.LazyFrame' indicating the data is available to us. On to the Groupby `country` and find the average `points` to compare with the eager API that we used earlier."
   ]
  },
  {
   "cell_type": "markdown",
   "id": "8c60ebe4",
   "metadata": {},
   "source": [
    "> Similar to the filters that we did with the eager API we are going to filter the unknown and 'US-France' values in the `country` variable first."
   ]
  },
  {
   "cell_type": "code",
   "execution_count": 30,
   "id": "1f52ba8e",
   "metadata": {},
   "outputs": [
    {
     "data": {
      "text/plain": "<polars.LazyFrame object at 0x11F1FFEE0>",
      "text/html": "<i>naive plan: (run <b>LazyFrame.explain(optimized=True)</b> to see the optimized plan)</i>\n    <p></p>\n    <div>FILTER [(col(\"country\").is_not_null()) & ([(col(\"country\")) != (Utf8(US-France))])] FROM<p></p>  CSV SCAN winemag-data_first150k.csv<p></p>  PROJECT */11 COLUMNS</div>"
     },
     "execution_count": 30,
     "metadata": {},
     "output_type": "execute_result"
    }
   ],
   "source": [
    "lazy_df.filter(\n",
    "    (pl.col('country').is_not_null()) &\n",
    "    (pl.col('country') != 'US-France')\n",
    ")\n",
    "\n",
    "# we can see that the query is almost the same\n",
    "# however this query only returns a query plan"
   ]
  },
  {
   "cell_type": "markdown",
   "id": "67eb8550",
   "metadata": {},
   "source": [
    "> As we can see nothing happens right away. From the documentation: '_This is due to the lazyness, nothing will happen until specifically requested. This allows Polars to see the whole context of a query and optimize just in time for execution._'"
   ]
  },
  {
   "cell_type": "markdown",
   "id": "fab84fae",
   "metadata": {},
   "source": [
    "> To actually see the results we can do two things: `collect()` and `fetch()`. The difference is that `fetch` takes the first 500 rows and then runs the query, whereas `collect` runs the query over all the results. Below we can see the differences for our case."
   ]
  },
  {
   "cell_type": "code",
   "execution_count": 31,
   "id": "54f59405",
   "metadata": {},
   "outputs": [
    {
     "data": {
      "text/plain": "shape: (500, 11)\n┌─────┬─────────┬───────────┬───────────┬───┬─────────────┬─────────────┬─────────────┬────────────┐\n│     ┆ country ┆ descripti ┆ designati ┆ … ┆ region_1    ┆ region_2    ┆ variety     ┆ winery     │\n│ --- ┆ ---     ┆ on        ┆ on        ┆   ┆ ---         ┆ ---         ┆ ---         ┆ ---        │\n│ i64 ┆ str     ┆ ---       ┆ ---       ┆   ┆ str         ┆ str         ┆ str         ┆ str        │\n│     ┆         ┆ str       ┆ str       ┆   ┆             ┆             ┆             ┆            │\n╞═════╪═════════╪═══════════╪═══════════╪═══╪═════════════╪═════════════╪═════════════╪════════════╡\n│ 0   ┆ US      ┆ This trem ┆ Martha's  ┆ … ┆ Napa Valley ┆ Napa        ┆ Cabernet    ┆ Heitz      │\n│     ┆         ┆ endous    ┆ Vineyard  ┆   ┆             ┆             ┆ Sauvignon   ┆            │\n│     ┆         ┆ 100%      ┆           ┆   ┆             ┆             ┆             ┆            │\n│     ┆         ┆ varietal  ┆           ┆   ┆             ┆             ┆             ┆            │\n│     ┆         ┆ wi…       ┆           ┆   ┆             ┆             ┆             ┆            │\n│ 1   ┆ Spain   ┆ Ripe      ┆ Carodorum ┆ … ┆ Toro        ┆ null        ┆ Tinta de    ┆ Bodega     │\n│     ┆         ┆ aromas of ┆ Selección ┆   ┆             ┆             ┆ Toro        ┆ Carmen     │\n│     ┆         ┆ fig, blac ┆ Especial  ┆   ┆             ┆             ┆             ┆ Rodríguez  │\n│     ┆         ┆ kberry a… ┆ Res…      ┆   ┆             ┆             ┆             ┆            │\n│ 2   ┆ US      ┆ Mac       ┆ Special   ┆ … ┆ Knights     ┆ Sonoma      ┆ Sauvignon   ┆ Macauley   │\n│     ┆         ┆ Watson    ┆ Selected  ┆   ┆ Valley      ┆             ┆ Blanc       ┆            │\n│     ┆         ┆ honors    ┆ Late      ┆   ┆             ┆             ┆             ┆            │\n│     ┆         ┆ the       ┆ Harvest   ┆   ┆             ┆             ┆             ┆            │\n│     ┆         ┆ memory of ┆           ┆   ┆             ┆             ┆             ┆            │\n│     ┆         ┆ …         ┆           ┆   ┆             ┆             ┆             ┆            │\n│ 3   ┆ US      ┆ This      ┆ Reserve   ┆ … ┆ Willamette  ┆ Willamette  ┆ Pinot Noir  ┆ Ponzi      │\n│     ┆         ┆ spent 20  ┆           ┆   ┆ Valley      ┆ Valley      ┆             ┆            │\n│     ┆         ┆ months in ┆           ┆   ┆             ┆             ┆             ┆            │\n│     ┆         ┆ 30% new … ┆           ┆   ┆             ┆             ┆             ┆            │\n│ …   ┆ …       ┆ …         ┆ …         ┆ … ┆ …           ┆ …           ┆ …           ┆ …          │\n│ 496 ┆ US      ┆ Boysenber ┆ Thompson  ┆ … ┆ Santa       ┆ Central     ┆ Syrah       ┆ Rideau     │\n│     ┆         ┆ ry, dried ┆ Vineyard  ┆   ┆ Barbara     ┆ Coast       ┆             ┆            │\n│     ┆         ┆ violets   ┆           ┆   ┆ County      ┆             ┆             ┆            │\n│     ┆         ┆ and b…    ┆           ┆   ┆             ┆             ┆             ┆            │\n│ 497 ┆ Italy   ┆ This      ┆ Daniello  ┆ … ┆ Toscana     ┆ null        ┆ Red Blend   ┆ Tenuta di  │\n│     ┆         ┆ blend of  ┆           ┆   ┆             ┆             ┆             ┆ Trecciano  │\n│     ┆         ┆ 80%       ┆           ┆   ┆             ┆             ┆             ┆            │\n│     ┆         ┆ Cabernet  ┆           ┆   ┆             ┆             ┆             ┆            │\n│     ┆         ┆ Sauvi…    ┆           ┆   ┆             ┆             ┆             ┆            │\n│ 498 ┆ Italy   ┆ This      ┆ Il        ┆ … ┆ Toscana     ┆ null        ┆ Cabernet    ┆ Terre del  │\n│     ┆         ┆ brooding  ┆ Tarabuso  ┆   ┆             ┆             ┆ Sauvignon   ┆ Marchesato │\n│     ┆         ┆ wine      ┆           ┆   ┆             ┆             ┆             ┆            │\n│     ┆         ┆ opens     ┆           ┆   ┆             ┆             ┆             ┆            │\n│     ┆         ┆ with ar…  ┆           ┆   ┆             ┆             ┆             ┆            │\n│ 499 ┆ Spain   ┆ Earthy    ┆ null      ┆ … ┆ Priorat     ┆ null        ┆ Red Blend   ┆ Vega Escal │\n│     ┆         ┆ berry and ┆           ┆   ┆             ┆             ┆             ┆            │\n│     ┆         ┆ licorice  ┆           ┆   ┆             ┆             ┆             ┆            │\n│     ┆         ┆ aromas…   ┆           ┆   ┆             ┆             ┆             ┆            │\n└─────┴─────────┴───────────┴───────────┴───┴─────────────┴─────────────┴─────────────┴────────────┘",
      "text/html": "<div><style>\n.dataframe > thead > tr > th,\n.dataframe > tbody > tr > td {\n  text-align: right;\n}\n</style>\n<small>shape: (500, 11)</small><table border=\"1\" class=\"dataframe\"><thead><tr><th></th><th>country</th><th>description</th><th>designation</th><th>points</th><th>price</th><th>province</th><th>region_1</th><th>region_2</th><th>variety</th><th>winery</th></tr><tr><td>i64</td><td>str</td><td>str</td><td>str</td><td>i64</td><td>f64</td><td>str</td><td>str</td><td>str</td><td>str</td><td>str</td></tr></thead><tbody><tr><td>0</td><td>&quot;US&quot;</td><td>&quot;This tremendou…</td><td>&quot;Martha&#x27;s Viney…</td><td>96</td><td>235.0</td><td>&quot;California&quot;</td><td>&quot;Napa Valley&quot;</td><td>&quot;Napa&quot;</td><td>&quot;Cabernet Sauvi…</td><td>&quot;Heitz&quot;</td></tr><tr><td>1</td><td>&quot;Spain&quot;</td><td>&quot;Ripe aromas of…</td><td>&quot;Carodorum Sele…</td><td>96</td><td>110.0</td><td>&quot;Northern Spain…</td><td>&quot;Toro&quot;</td><td>null</td><td>&quot;Tinta de Toro&quot;</td><td>&quot;Bodega Carmen …</td></tr><tr><td>2</td><td>&quot;US&quot;</td><td>&quot;Mac Watson hon…</td><td>&quot;Special Select…</td><td>96</td><td>90.0</td><td>&quot;California&quot;</td><td>&quot;Knights Valley…</td><td>&quot;Sonoma&quot;</td><td>&quot;Sauvignon Blan…</td><td>&quot;Macauley&quot;</td></tr><tr><td>3</td><td>&quot;US&quot;</td><td>&quot;This spent 20 …</td><td>&quot;Reserve&quot;</td><td>96</td><td>65.0</td><td>&quot;Oregon&quot;</td><td>&quot;Willamette Val…</td><td>&quot;Willamette Val…</td><td>&quot;Pinot Noir&quot;</td><td>&quot;Ponzi&quot;</td></tr><tr><td>4</td><td>&quot;France&quot;</td><td>&quot;This is the to…</td><td>&quot;La Brûlade&quot;</td><td>95</td><td>66.0</td><td>&quot;Provence&quot;</td><td>&quot;Bandol&quot;</td><td>null</td><td>&quot;Provence red b…</td><td>&quot;Domaine de la …</td></tr><tr><td>5</td><td>&quot;Spain&quot;</td><td>&quot;Deep, dense an…</td><td>&quot;Numanthia&quot;</td><td>95</td><td>73.0</td><td>&quot;Northern Spain…</td><td>&quot;Toro&quot;</td><td>null</td><td>&quot;Tinta de Toro&quot;</td><td>&quot;Numanthia&quot;</td></tr><tr><td>6</td><td>&quot;Spain&quot;</td><td>&quot;Slightly gritt…</td><td>&quot;San Román&quot;</td><td>95</td><td>65.0</td><td>&quot;Northern Spain…</td><td>&quot;Toro&quot;</td><td>null</td><td>&quot;Tinta de Toro&quot;</td><td>&quot;Maurodos&quot;</td></tr><tr><td>7</td><td>&quot;Spain&quot;</td><td>&quot;Lush cedary bl…</td><td>&quot;Carodorum Únic…</td><td>95</td><td>110.0</td><td>&quot;Northern Spain…</td><td>&quot;Toro&quot;</td><td>null</td><td>&quot;Tinta de Toro&quot;</td><td>&quot;Bodega Carmen …</td></tr><tr><td>8</td><td>&quot;US&quot;</td><td>&quot;This re-named …</td><td>&quot;Silice&quot;</td><td>95</td><td>65.0</td><td>&quot;Oregon&quot;</td><td>&quot;Chehalem Mount…</td><td>&quot;Willamette Val…</td><td>&quot;Pinot Noir&quot;</td><td>&quot;Bergström&quot;</td></tr><tr><td>9</td><td>&quot;US&quot;</td><td>&quot;The producer s…</td><td>&quot;Gap&#x27;s Crown Vi…</td><td>95</td><td>60.0</td><td>&quot;California&quot;</td><td>&quot;Sonoma Coast&quot;</td><td>&quot;Sonoma&quot;</td><td>&quot;Pinot Noir&quot;</td><td>&quot;Blue Farm&quot;</td></tr><tr><td>10</td><td>&quot;Italy&quot;</td><td>&quot;Elegance, comp…</td><td>&quot;Ronco della Ch…</td><td>95</td><td>80.0</td><td>&quot;Northeastern I…</td><td>&quot;Collio&quot;</td><td>null</td><td>&quot;Friulano&quot;</td><td>&quot;Borgo del Tigl…</td></tr><tr><td>11</td><td>&quot;US&quot;</td><td>&quot;From 18-year-o…</td><td>&quot;Estate Vineyar…</td><td>95</td><td>48.0</td><td>&quot;Oregon&quot;</td><td>&quot;Ribbon Ridge&quot;</td><td>&quot;Willamette Val…</td><td>&quot;Pinot Noir&quot;</td><td>&quot;Patricia Green…</td></tr><tr><td>&hellip;</td><td>&hellip;</td><td>&hellip;</td><td>&hellip;</td><td>&hellip;</td><td>&hellip;</td><td>&hellip;</td><td>&hellip;</td><td>&hellip;</td><td>&hellip;</td><td>&hellip;</td></tr><tr><td>488</td><td>&quot;US&quot;</td><td>&quot;This is full b…</td><td>null</td><td>89</td><td>35.0</td><td>&quot;Oregon&quot;</td><td>&quot;Willamette Val…</td><td>&quot;Willamette Val…</td><td>&quot;Chardonnay&quot;</td><td>&quot;Aubichon Cella…</td></tr><tr><td>489</td><td>&quot;US&quot;</td><td>&quot;Bloody meats, …</td><td>&quot;Cheval Rouge R…</td><td>89</td><td>30.0</td><td>&quot;California&quot;</td><td>&quot;Carmel Valley&quot;</td><td>&quot;Central Coast&quot;</td><td>&quot;Bordeaux-style…</td><td>&quot;Boëté&quot;</td></tr><tr><td>490</td><td>&quot;Italy&quot;</td><td>&quot;Made with Cabe…</td><td>&quot;Coniale&quot;</td><td>89</td><td>55.0</td><td>&quot;Tuscany&quot;</td><td>&quot;Toscana&quot;</td><td>null</td><td>&quot;Cabernet Sauvi…</td><td>&quot;Castellare di …</td></tr><tr><td>491</td><td>&quot;France&quot;</td><td>&quot;La Guillotte i…</td><td>&quot;La Guillotte&quot;</td><td>89</td><td>null</td><td>&quot;Southwest Fran…</td><td>&quot;Fronton&quot;</td><td>null</td><td>&quot;Negrette&quot;</td><td>&quot;Château Bouiss…</td></tr><tr><td>492</td><td>&quot;US&quot;</td><td>&quot;The estate res…</td><td>&quot;Nicholas Estat…</td><td>89</td><td>46.0</td><td>&quot;Oregon&quot;</td><td>&quot;Chehalem Mount…</td><td>&quot;Willamette Val…</td><td>&quot;Pinot Noir&quot;</td><td>&quot;Anam Cara&quot;</td></tr><tr><td>493</td><td>&quot;US&quot;</td><td>&quot;This firm, wel…</td><td>null</td><td>89</td><td>50.0</td><td>&quot;Oregon&quot;</td><td>&quot;Willamette Val…</td><td>&quot;Willamette Val…</td><td>&quot;Pinot Noir&quot;</td><td>&quot;Carden&quot;</td></tr><tr><td>494</td><td>&quot;US&quot;</td><td>&quot;Warm berry-rhu…</td><td>&quot;Fourplay&quot;</td><td>89</td><td>43.0</td><td>&quot;California&quot;</td><td>&quot;Santa Ynez Val…</td><td>&quot;Central Coast&quot;</td><td>&quot;Red Blend&quot;</td><td>&quot;Carhartt Viney…</td></tr><tr><td>495</td><td>&quot;Portugal&quot;</td><td>&quot;A palate of ex…</td><td>null</td><td>89</td><td>45.0</td><td>&quot;Duriense&quot;</td><td>null</td><td>null</td><td>&quot;Syrah&quot;</td><td>&quot;Quinta da Roma…</td></tr><tr><td>496</td><td>&quot;US&quot;</td><td>&quot;Boysenberry, d…</td><td>&quot;Thompson Viney…</td><td>89</td><td>39.0</td><td>&quot;California&quot;</td><td>&quot;Santa Barbara …</td><td>&quot;Central Coast&quot;</td><td>&quot;Syrah&quot;</td><td>&quot;Rideau&quot;</td></tr><tr><td>497</td><td>&quot;Italy&quot;</td><td>&quot;This blend of …</td><td>&quot;Daniello&quot;</td><td>89</td><td>30.0</td><td>&quot;Tuscany&quot;</td><td>&quot;Toscana&quot;</td><td>null</td><td>&quot;Red Blend&quot;</td><td>&quot;Tenuta di Trec…</td></tr><tr><td>498</td><td>&quot;Italy&quot;</td><td>&quot;This brooding …</td><td>&quot;Il Tarabuso&quot;</td><td>89</td><td>45.0</td><td>&quot;Tuscany&quot;</td><td>&quot;Toscana&quot;</td><td>null</td><td>&quot;Cabernet Sauvi…</td><td>&quot;Terre del Marc…</td></tr><tr><td>499</td><td>&quot;Spain&quot;</td><td>&quot;Earthy berry a…</td><td>null</td><td>89</td><td>23.0</td><td>&quot;Catalonia&quot;</td><td>&quot;Priorat&quot;</td><td>null</td><td>&quot;Red Blend&quot;</td><td>&quot;Vega Escal&quot;</td></tr></tbody></table></div>"
     },
     "execution_count": 31,
     "metadata": {},
     "output_type": "execute_result"
    }
   ],
   "source": [
    "lazy_df.filter(\n",
    "    (pl.col('country').is_not_null()) &\n",
    "    (pl.col('country') != 'US-France')\n",
    ").fetch()"
   ]
  },
  {
   "cell_type": "code",
   "execution_count": 32,
   "id": "0255f98e",
   "metadata": {},
   "outputs": [
    {
     "data": {
      "text/plain": "shape: (150_924, 11)\n┌────────┬─────────┬───────────┬───────────┬───┬────────────┬────────────┬────────────┬────────────┐\n│        ┆ country ┆ descripti ┆ designati ┆ … ┆ region_1   ┆ region_2   ┆ variety    ┆ winery     │\n│ ---    ┆ ---     ┆ on        ┆ on        ┆   ┆ ---        ┆ ---        ┆ ---        ┆ ---        │\n│ i64    ┆ str     ┆ ---       ┆ ---       ┆   ┆ str        ┆ str        ┆ str        ┆ str        │\n│        ┆         ┆ str       ┆ str       ┆   ┆            ┆            ┆            ┆            │\n╞════════╪═════════╪═══════════╪═══════════╪═══╪════════════╪════════════╪════════════╪════════════╡\n│ 0      ┆ US      ┆ This trem ┆ Martha's  ┆ … ┆ Napa       ┆ Napa       ┆ Cabernet   ┆ Heitz      │\n│        ┆         ┆ endous    ┆ Vineyard  ┆   ┆ Valley     ┆            ┆ Sauvignon  ┆            │\n│        ┆         ┆ 100%      ┆           ┆   ┆            ┆            ┆            ┆            │\n│        ┆         ┆ varietal  ┆           ┆   ┆            ┆            ┆            ┆            │\n│        ┆         ┆ wi…       ┆           ┆   ┆            ┆            ┆            ┆            │\n│ 1      ┆ Spain   ┆ Ripe      ┆ Carodorum ┆ … ┆ Toro       ┆ null       ┆ Tinta de   ┆ Bodega     │\n│        ┆         ┆ aromas of ┆ Selección ┆   ┆            ┆            ┆ Toro       ┆ Carmen     │\n│        ┆         ┆ fig, blac ┆ Especial  ┆   ┆            ┆            ┆            ┆ Rodríguez  │\n│        ┆         ┆ kberry a… ┆ Res…      ┆   ┆            ┆            ┆            ┆            │\n│ 2      ┆ US      ┆ Mac       ┆ Special   ┆ … ┆ Knights    ┆ Sonoma     ┆ Sauvignon  ┆ Macauley   │\n│        ┆         ┆ Watson    ┆ Selected  ┆   ┆ Valley     ┆            ┆ Blanc      ┆            │\n│        ┆         ┆ honors    ┆ Late      ┆   ┆            ┆            ┆            ┆            │\n│        ┆         ┆ the       ┆ Harvest   ┆   ┆            ┆            ┆            ┆            │\n│        ┆         ┆ memory of ┆           ┆   ┆            ┆            ┆            ┆            │\n│        ┆         ┆ …         ┆           ┆   ┆            ┆            ┆            ┆            │\n│ 3      ┆ US      ┆ This      ┆ Reserve   ┆ … ┆ Willamette ┆ Willamette ┆ Pinot Noir ┆ Ponzi      │\n│        ┆         ┆ spent 20  ┆           ┆   ┆ Valley     ┆ Valley     ┆            ┆            │\n│        ┆         ┆ months in ┆           ┆   ┆            ┆            ┆            ┆            │\n│        ┆         ┆ 30% new … ┆           ┆   ┆            ┆            ┆            ┆            │\n│ …      ┆ …       ┆ …         ┆ …         ┆ … ┆ …          ┆ …          ┆ …          ┆ …          │\n│ 150926 ┆ France  ┆ Offers an ┆ Cuvée     ┆ … ┆ Champagne  ┆ null       ┆ Champagne  ┆ H.Germain  │\n│        ┆         ┆ intriguin ┆ Prestige  ┆   ┆            ┆            ┆ Blend      ┆            │\n│        ┆         ┆ g nose    ┆           ┆   ┆            ┆            ┆            ┆            │\n│        ┆         ┆ with g…   ┆           ┆   ┆            ┆            ┆            ┆            │\n│ 150927 ┆ Italy   ┆ This      ┆ Terre di  ┆ … ┆ Fiano di   ┆ null       ┆ White      ┆ Terredora  │\n│        ┆         ┆ classic   ┆ Dora      ┆   ┆ Avellino   ┆            ┆ Blend      ┆            │\n│        ┆         ┆ example   ┆           ┆   ┆            ┆            ┆            ┆            │\n│        ┆         ┆ comes     ┆           ┆   ┆            ┆            ┆            ┆            │\n│        ┆         ┆ from …    ┆           ┆   ┆            ┆            ┆            ┆            │\n│ 150928 ┆ France  ┆ A perfect ┆ Grand     ┆ … ┆ Champagne  ┆ null       ┆ Champagne  ┆ Gosset     │\n│        ┆         ┆ salmon    ┆ Brut Rosé ┆   ┆            ┆            ┆ Blend      ┆            │\n│        ┆         ┆ shade,    ┆           ┆   ┆            ┆            ┆            ┆            │\n│        ┆         ┆ with sce… ┆           ┆   ┆            ┆            ┆            ┆            │\n│ 150929 ┆ Italy   ┆ More      ┆ null      ┆ … ┆ Alto Adige ┆ null       ┆ Pinot      ┆ Alois      │\n│        ┆         ┆ Pinot     ┆           ┆   ┆            ┆            ┆ Grigio     ┆ Lageder    │\n│        ┆         ┆ Grigios   ┆           ┆   ┆            ┆            ┆            ┆            │\n│        ┆         ┆ should    ┆           ┆   ┆            ┆            ┆            ┆            │\n│        ┆         ┆ taste …   ┆           ┆   ┆            ┆            ┆            ┆            │\n└────────┴─────────┴───────────┴───────────┴───┴────────────┴────────────┴────────────┴────────────┘",
      "text/html": "<div><style>\n.dataframe > thead > tr > th,\n.dataframe > tbody > tr > td {\n  text-align: right;\n}\n</style>\n<small>shape: (150_924, 11)</small><table border=\"1\" class=\"dataframe\"><thead><tr><th></th><th>country</th><th>description</th><th>designation</th><th>points</th><th>price</th><th>province</th><th>region_1</th><th>region_2</th><th>variety</th><th>winery</th></tr><tr><td>i64</td><td>str</td><td>str</td><td>str</td><td>i64</td><td>f64</td><td>str</td><td>str</td><td>str</td><td>str</td><td>str</td></tr></thead><tbody><tr><td>0</td><td>&quot;US&quot;</td><td>&quot;This tremendou…</td><td>&quot;Martha&#x27;s Viney…</td><td>96</td><td>235.0</td><td>&quot;California&quot;</td><td>&quot;Napa Valley&quot;</td><td>&quot;Napa&quot;</td><td>&quot;Cabernet Sauvi…</td><td>&quot;Heitz&quot;</td></tr><tr><td>1</td><td>&quot;Spain&quot;</td><td>&quot;Ripe aromas of…</td><td>&quot;Carodorum Sele…</td><td>96</td><td>110.0</td><td>&quot;Northern Spain…</td><td>&quot;Toro&quot;</td><td>null</td><td>&quot;Tinta de Toro&quot;</td><td>&quot;Bodega Carmen …</td></tr><tr><td>2</td><td>&quot;US&quot;</td><td>&quot;Mac Watson hon…</td><td>&quot;Special Select…</td><td>96</td><td>90.0</td><td>&quot;California&quot;</td><td>&quot;Knights Valley…</td><td>&quot;Sonoma&quot;</td><td>&quot;Sauvignon Blan…</td><td>&quot;Macauley&quot;</td></tr><tr><td>3</td><td>&quot;US&quot;</td><td>&quot;This spent 20 …</td><td>&quot;Reserve&quot;</td><td>96</td><td>65.0</td><td>&quot;Oregon&quot;</td><td>&quot;Willamette Val…</td><td>&quot;Willamette Val…</td><td>&quot;Pinot Noir&quot;</td><td>&quot;Ponzi&quot;</td></tr><tr><td>4</td><td>&quot;France&quot;</td><td>&quot;This is the to…</td><td>&quot;La Brûlade&quot;</td><td>95</td><td>66.0</td><td>&quot;Provence&quot;</td><td>&quot;Bandol&quot;</td><td>null</td><td>&quot;Provence red b…</td><td>&quot;Domaine de la …</td></tr><tr><td>5</td><td>&quot;Spain&quot;</td><td>&quot;Deep, dense an…</td><td>&quot;Numanthia&quot;</td><td>95</td><td>73.0</td><td>&quot;Northern Spain…</td><td>&quot;Toro&quot;</td><td>null</td><td>&quot;Tinta de Toro&quot;</td><td>&quot;Numanthia&quot;</td></tr><tr><td>6</td><td>&quot;Spain&quot;</td><td>&quot;Slightly gritt…</td><td>&quot;San Román&quot;</td><td>95</td><td>65.0</td><td>&quot;Northern Spain…</td><td>&quot;Toro&quot;</td><td>null</td><td>&quot;Tinta de Toro&quot;</td><td>&quot;Maurodos&quot;</td></tr><tr><td>7</td><td>&quot;Spain&quot;</td><td>&quot;Lush cedary bl…</td><td>&quot;Carodorum Únic…</td><td>95</td><td>110.0</td><td>&quot;Northern Spain…</td><td>&quot;Toro&quot;</td><td>null</td><td>&quot;Tinta de Toro&quot;</td><td>&quot;Bodega Carmen …</td></tr><tr><td>8</td><td>&quot;US&quot;</td><td>&quot;This re-named …</td><td>&quot;Silice&quot;</td><td>95</td><td>65.0</td><td>&quot;Oregon&quot;</td><td>&quot;Chehalem Mount…</td><td>&quot;Willamette Val…</td><td>&quot;Pinot Noir&quot;</td><td>&quot;Bergström&quot;</td></tr><tr><td>9</td><td>&quot;US&quot;</td><td>&quot;The producer s…</td><td>&quot;Gap&#x27;s Crown Vi…</td><td>95</td><td>60.0</td><td>&quot;California&quot;</td><td>&quot;Sonoma Coast&quot;</td><td>&quot;Sonoma&quot;</td><td>&quot;Pinot Noir&quot;</td><td>&quot;Blue Farm&quot;</td></tr><tr><td>10</td><td>&quot;Italy&quot;</td><td>&quot;Elegance, comp…</td><td>&quot;Ronco della Ch…</td><td>95</td><td>80.0</td><td>&quot;Northeastern I…</td><td>&quot;Collio&quot;</td><td>null</td><td>&quot;Friulano&quot;</td><td>&quot;Borgo del Tigl…</td></tr><tr><td>11</td><td>&quot;US&quot;</td><td>&quot;From 18-year-o…</td><td>&quot;Estate Vineyar…</td><td>95</td><td>48.0</td><td>&quot;Oregon&quot;</td><td>&quot;Ribbon Ridge&quot;</td><td>&quot;Willamette Val…</td><td>&quot;Pinot Noir&quot;</td><td>&quot;Patricia Green…</td></tr><tr><td>&hellip;</td><td>&hellip;</td><td>&hellip;</td><td>&hellip;</td><td>&hellip;</td><td>&hellip;</td><td>&hellip;</td><td>&hellip;</td><td>&hellip;</td><td>&hellip;</td><td>&hellip;</td></tr><tr><td>150918</td><td>&quot;France&quot;</td><td>&quot;Jacquart makes…</td><td>&quot;Cuvée Mosaïque…</td><td>92</td><td>38.0</td><td>&quot;Champagne&quot;</td><td>&quot;Champagne&quot;</td><td>null</td><td>&quot;Champagne Blen…</td><td>&quot;Jacquart&quot;</td></tr><tr><td>150919</td><td>&quot;France&quot;</td><td>&quot;This classy ex…</td><td>&quot;Cuvée Presiden…</td><td>91</td><td>37.0</td><td>&quot;Champagne&quot;</td><td>&quot;Champagne&quot;</td><td>null</td><td>&quot;Champagne Blen…</td><td>&quot;H.Germain&quot;</td></tr><tr><td>150920</td><td>&quot;Italy&quot;</td><td>&quot;Rich and matur…</td><td>&quot;Brut Riserva&quot;</td><td>91</td><td>19.0</td><td>&quot;Northeastern I…</td><td>&quot;Trento&quot;</td><td>null</td><td>&quot;Champagne Blen…</td><td>&quot;Letrari&quot;</td></tr><tr><td>150921</td><td>&quot;France&quot;</td><td>&quot;Shows some old…</td><td>&quot;Blanc de Blanc…</td><td>91</td><td>38.0</td><td>&quot;Champagne&quot;</td><td>&quot;Champagne&quot;</td><td>null</td><td>&quot;Champagne Blen…</td><td>&quot;Jacquart&quot;</td></tr><tr><td>150922</td><td>&quot;Italy&quot;</td><td>&quot;Made by 30-ish…</td><td>&quot;Superiore&quot;</td><td>91</td><td>null</td><td>&quot;Northeastern I…</td><td>&quot;Colli Oriental…</td><td>null</td><td>&quot;Tocai&quot;</td><td>&quot;Ronchi di Manz…</td></tr><tr><td>150923</td><td>&quot;France&quot;</td><td>&quot;Rich and toast…</td><td>&quot;Demi-Sec&quot;</td><td>91</td><td>30.0</td><td>&quot;Champagne&quot;</td><td>&quot;Champagne&quot;</td><td>null</td><td>&quot;Champagne Blen…</td><td>&quot;Jacquart&quot;</td></tr><tr><td>150924</td><td>&quot;France&quot;</td><td>&quot;Really fine fo…</td><td>&quot;Diamant Bleu&quot;</td><td>91</td><td>70.0</td><td>&quot;Champagne&quot;</td><td>&quot;Champagne&quot;</td><td>null</td><td>&quot;Champagne Blen…</td><td>&quot;Heidsieck &amp; Co…</td></tr><tr><td>150925</td><td>&quot;Italy&quot;</td><td>&quot;Many people fe…</td><td>null</td><td>91</td><td>20.0</td><td>&quot;Southern Italy…</td><td>&quot;Fiano di Avell…</td><td>null</td><td>&quot;White Blend&quot;</td><td>&quot;Feudi di San G…</td></tr><tr><td>150926</td><td>&quot;France&quot;</td><td>&quot;Offers an intr…</td><td>&quot;Cuvée Prestige…</td><td>91</td><td>27.0</td><td>&quot;Champagne&quot;</td><td>&quot;Champagne&quot;</td><td>null</td><td>&quot;Champagne Blen…</td><td>&quot;H.Germain&quot;</td></tr><tr><td>150927</td><td>&quot;Italy&quot;</td><td>&quot;This classic e…</td><td>&quot;Terre di Dora&quot;</td><td>91</td><td>20.0</td><td>&quot;Southern Italy…</td><td>&quot;Fiano di Avell…</td><td>null</td><td>&quot;White Blend&quot;</td><td>&quot;Terredora&quot;</td></tr><tr><td>150928</td><td>&quot;France&quot;</td><td>&quot;A perfect salm…</td><td>&quot;Grand Brut Ros…</td><td>90</td><td>52.0</td><td>&quot;Champagne&quot;</td><td>&quot;Champagne&quot;</td><td>null</td><td>&quot;Champagne Blen…</td><td>&quot;Gosset&quot;</td></tr><tr><td>150929</td><td>&quot;Italy&quot;</td><td>&quot;More Pinot Gri…</td><td>null</td><td>90</td><td>15.0</td><td>&quot;Northeastern I…</td><td>&quot;Alto Adige&quot;</td><td>null</td><td>&quot;Pinot Grigio&quot;</td><td>&quot;Alois Lageder&quot;</td></tr></tbody></table></div>"
     },
     "execution_count": 32,
     "metadata": {},
     "output_type": "execute_result"
    }
   ],
   "source": [
    "lazy_df.filter(\n",
    "    (pl.col('country').is_not_null()) &\n",
    "    (pl.col('country') != 'US-France')\n",
    ").collect()"
   ]
  },
  {
   "cell_type": "markdown",
   "id": "fb88e8d1",
   "metadata": {},
   "source": [
    "We can see from the shapes that `fetch` catches 500 rows and `collect` retrieves all the rows."
   ]
  },
  {
   "cell_type": "code",
   "execution_count": 33,
   "id": "a0f0f1cb",
   "metadata": {},
   "outputs": [
    {
     "ename": "TypeError",
     "evalue": "LazyFrame.sort() got an unexpected keyword argument 'reverse'",
     "output_type": "error",
     "traceback": [
      "\u001B[0;31m---------------------------------------------------------------------------\u001B[0m",
      "\u001B[0;31mTypeError\u001B[0m                                 Traceback (most recent call last)",
      "Cell \u001B[0;32mIn[33], line 1\u001B[0m\n\u001B[0;32m----> 1\u001B[0m \u001B[43mlazy_df\u001B[49m\u001B[38;5;241;43m.\u001B[39;49m\u001B[43mgroupby\u001B[49m\u001B[43m(\u001B[49m\u001B[38;5;124;43m'\u001B[39;49m\u001B[38;5;124;43mcountry\u001B[39;49m\u001B[38;5;124;43m'\u001B[39;49m\u001B[43m)\u001B[49m\u001B[38;5;241;43m.\u001B[39;49m\u001B[43magg\u001B[49m\u001B[43m(\u001B[49m\n\u001B[1;32m      2\u001B[0m \u001B[43m    \u001B[49m\u001B[43mpl\u001B[49m\u001B[38;5;241;43m.\u001B[39;49m\u001B[43mcol\u001B[49m\u001B[43m(\u001B[49m\u001B[38;5;124;43m'\u001B[39;49m\u001B[38;5;124;43mpoints\u001B[39;49m\u001B[38;5;124;43m'\u001B[39;49m\u001B[43m)\u001B[49m\u001B[38;5;241;43m.\u001B[39;49m\u001B[43mmean\u001B[49m\u001B[43m(\u001B[49m\u001B[43m)\u001B[49m\u001B[38;5;241;43m.\u001B[39;49m\u001B[43malias\u001B[49m\u001B[43m(\u001B[49m\u001B[38;5;124;43m'\u001B[39;49m\u001B[38;5;124;43mpoints_mean\u001B[39;49m\u001B[38;5;124;43m'\u001B[39;49m\u001B[43m)\u001B[49m\n\u001B[1;32m      3\u001B[0m \u001B[43m)\u001B[49m\u001B[38;5;241;43m.\u001B[39;49m\u001B[43msort\u001B[49m\u001B[43m(\u001B[49m\u001B[43mby\u001B[49m\u001B[38;5;241;43m=\u001B[39;49m\u001B[38;5;124;43m'\u001B[39;49m\u001B[38;5;124;43mpoints_mean\u001B[39;49m\u001B[38;5;124;43m'\u001B[39;49m\u001B[43m,\u001B[49m\u001B[43m \u001B[49m\u001B[43mreverse\u001B[49m\u001B[38;5;241;43m=\u001B[39;49m\u001B[38;5;28;43;01mTrue\u001B[39;49;00m\u001B[43m)\u001B[49m\u001B[38;5;241m.\u001B[39mcollect()\n\u001B[1;32m      5\u001B[0m \u001B[38;5;66;03m#  lazy_df = (\u001B[39;00m\n\u001B[1;32m      6\u001B[0m \u001B[38;5;66;03m#     lazy_df\u001B[39;00m\n\u001B[1;32m      7\u001B[0m \u001B[38;5;66;03m#     .groupby('country')\u001B[39;00m\n\u001B[1;32m      8\u001B[0m \u001B[38;5;66;03m#     .agg([pl.mean('points').alias('avg_points')])\u001B[39;00m\n\u001B[1;32m      9\u001B[0m \u001B[38;5;66;03m#     .sort(\"avg_points\", reverse=True)\u001B[39;00m\n\u001B[1;32m     10\u001B[0m \u001B[38;5;66;03m# )\u001B[39;00m\n",
      "\u001B[0;31mTypeError\u001B[0m: LazyFrame.sort() got an unexpected keyword argument 'reverse'"
     ]
    }
   ],
   "source": [
    "lazy_df.groupby('country').agg(\n",
    "    pl.col('points').mean().alias('points_mean')\n",
    ").sort(by='points_mean', reverse=True).collect()\n",
    "\n",
    "#  lazy_df = (\n",
    "#     lazy_df\n",
    "#     .groupby('country')\n",
    "#     .agg([pl.mean('points').alias('avg_points')])\n",
    "#     .sort(\"avg_points\", reverse=True)\n",
    "# )"
   ]
  },
  {
   "cell_type": "markdown",
   "id": "7da4d959",
   "metadata": {},
   "source": [
    "### Out of Core [NEW]"
   ]
  },
  {
   "cell_type": "markdown",
   "id": "2861bd96",
   "metadata": {},
   "source": [
    "What if you dataset doesn't fit in memory? This example is rather small, but in this day and age it is not unlikely that you are working on datsets that don't fit in memory any more. Polars offers a very easy way to work with that. \n",
    "\n",
    "Pretend that our dataset is not ~50MB, but 50GB. What can we do to, for example, Groupby country and do some calculations:"
   ]
  },
  {
   "cell_type": "markdown",
   "id": "da169279",
   "metadata": {},
   "source": [
    "Not much changes, except that in `collect()` we add: `streaming=True` "
   ]
  },
  {
   "cell_type": "code",
   "execution_count": 34,
   "id": "fb36c98b",
   "metadata": {},
   "outputs": [
    {
     "ename": "TypeError",
     "evalue": "LazyFrame.sort() got an unexpected keyword argument 'reverse'",
     "output_type": "error",
     "traceback": [
      "\u001B[0;31m---------------------------------------------------------------------------\u001B[0m",
      "\u001B[0;31mTypeError\u001B[0m                                 Traceback (most recent call last)",
      "Cell \u001B[0;32mIn[34], line 1\u001B[0m\n\u001B[0;32m----> 1\u001B[0m \u001B[43mlazy_df\u001B[49m\u001B[38;5;241;43m.\u001B[39;49m\u001B[43mgroupby\u001B[49m\u001B[43m(\u001B[49m\u001B[38;5;124;43m'\u001B[39;49m\u001B[38;5;124;43mcountry\u001B[39;49m\u001B[38;5;124;43m'\u001B[39;49m\u001B[43m)\u001B[49m\u001B[38;5;241;43m.\u001B[39;49m\u001B[43magg\u001B[49m\u001B[43m(\u001B[49m\n\u001B[1;32m      2\u001B[0m \u001B[43m    \u001B[49m\u001B[43mpl\u001B[49m\u001B[38;5;241;43m.\u001B[39;49m\u001B[43mcol\u001B[49m\u001B[43m(\u001B[49m\u001B[38;5;124;43m'\u001B[39;49m\u001B[38;5;124;43mpoints\u001B[39;49m\u001B[38;5;124;43m'\u001B[39;49m\u001B[43m)\u001B[49m\u001B[38;5;241;43m.\u001B[39;49m\u001B[43mmean\u001B[49m\u001B[43m(\u001B[49m\u001B[43m)\u001B[49m\u001B[38;5;241;43m.\u001B[39;49m\u001B[43malias\u001B[49m\u001B[43m(\u001B[49m\u001B[38;5;124;43m'\u001B[39;49m\u001B[38;5;124;43mpoints_mean\u001B[39;49m\u001B[38;5;124;43m'\u001B[39;49m\u001B[43m)\u001B[49m\n\u001B[1;32m      3\u001B[0m \u001B[43m)\u001B[49m\u001B[38;5;241;43m.\u001B[39;49m\u001B[43msort\u001B[49m\u001B[43m(\u001B[49m\u001B[43mby\u001B[49m\u001B[38;5;241;43m=\u001B[39;49m\u001B[38;5;124;43m'\u001B[39;49m\u001B[38;5;124;43mpoints_mean\u001B[39;49m\u001B[38;5;124;43m'\u001B[39;49m\u001B[43m,\u001B[49m\u001B[43m \u001B[49m\u001B[43mreverse\u001B[49m\u001B[38;5;241;43m=\u001B[39;49m\u001B[38;5;28;43;01mTrue\u001B[39;49;00m\u001B[43m)\u001B[49m\u001B[38;5;241m.\u001B[39mcollect(streaming\u001B[38;5;241m=\u001B[39m\u001B[38;5;28;01mTrue\u001B[39;00m)\n",
      "\u001B[0;31mTypeError\u001B[0m: LazyFrame.sort() got an unexpected keyword argument 'reverse'"
     ]
    }
   ],
   "source": [
    "lazy_df.groupby('country').agg(\n",
    "    pl.col('points').mean().alias('points_mean')\n",
    ").sort(by='points_mean', reverse=True).collect(streaming=True)"
   ]
  },
  {
   "cell_type": "markdown",
   "id": "53e49021",
   "metadata": {},
   "source": [
    "## Output"
   ]
  },
  {
   "cell_type": "markdown",
   "id": "129ea48e",
   "metadata": {},
   "source": [
    "> We have got the output that we are looking for. Polars offers several ways to output our analyses, even to other formats useful for further analyses (e.g. pandas dataframe (`to_pandas()`) or numpy arrays (`to_numpy()`)."
   ]
  },
  {
   "cell_type": "code",
   "execution_count": null,
   "id": "9d4387b9",
   "metadata": {},
   "outputs": [],
   "source": [
    "lazy_df.collect().write_csv('results.csv')\n",
    "\n",
    "#  lazy_df.collect().to_csv('results.csv')"
   ]
  },
  {
   "cell_type": "markdown",
   "id": "d9f008df",
   "metadata": {},
   "source": [
    "## Final words from 2022"
   ]
  },
  {
   "cell_type": "markdown",
   "id": "0239a835",
   "metadata": {},
   "source": [
    "> Polars is a new package that is gaining a lot of attention. At the time of writing this article, it has gathered more than 1300 stars on Github, which is impressive looking at the fact that is around for less than a year. It offers almost all the functions that we need to manipulate our dataframe. Next to that, it offers a lazy API that helps us optimising our queries before we execute them. Although we didn't touch it is in this article, the benchmark of H20 shows that it is super efficient and fast. Especially with larger datasets it becomes worthwhile to look into the benefits that the lazy API has to offer.\n",
    "\n",
    "This is what I wrote two years ago. 1300 stars. In 2022, while I am writing this, the project has collected 10.4k stars on Github and it is number 4 trending project on Github.\n",
    "\n",
    "There are a lot of improvements happening under the hood and in the APIs. \n",
    "\n",
    "For more information, check the [Polars' Github page](https://github.com/pola-rs/polars). Here you can find links to benchmark's, the Polars book or the Polars Discord. \n",
    "\n",
    "I highly recommend joining the Discord. There is a lot of activity and many people are happy to help you with your specific questions."
   ]
  }
 ],
 "metadata": {
  "kernelspec": {
   "display_name": "Python 3 (ipykernel)",
   "language": "python",
   "name": "python3"
  },
  "language_info": {
   "codemirror_mode": {
    "name": "ipython",
    "version": 3
   },
   "file_extension": ".py",
   "mimetype": "text/x-python",
   "name": "python",
   "nbconvert_exporter": "python",
   "pygments_lexer": "ipython3",
   "version": "3.9.6"
  },
  "vscode": {
   "interpreter": {
    "hash": "7cfc7b723e3ad961d8ad0c4a874ed99db38e2daae87ff284caf4b74a64b262de"
   }
  }
 },
 "nbformat": 4,
 "nbformat_minor": 5
}
